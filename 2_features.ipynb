{
 "cells": [
  {
   "cell_type": "markdown",
   "metadata": {
    "id": "Q2ZGUpSWinDw"
   },
   "source": [
    "# Song Genre Classification\n",
    "## Part 2: Feature Extraction\n",
    "- <code>Syntactic information:</code>\n",
    "    - **mean tree depth:** mean depth of the longest path from root to any leaf\n",
    "- <code>Surface information:</code>\n",
    "    - **length in words:** lyrics' length in words\n",
    "    - **mean line lenth:** mean length of each line in a song\n",
    "- <code>Semantic information:</code>\n",
    "    - **swear words:** if the swear words are present in the lyrics\n",
    "    - **NER:** persentage of named entities in the lyrics\n",
    "    - **type-token ratio:** ratio of unique words to all words\n",
    "    - **n-fram ratio:** ratio of unique n-grams to all n-grams, where $n \\leq 3$\n",
    "    - **slang:** percentage of slang words in song lyrics\n",
    "    - **pronouns:** ratio of 1 to 2 person pronouns, 1sg (I) to other - egocenticity of the text (*1-to-2* person, *1sg-to-other* person)\n",
    "    - **pos:** persentage of NOUNs, VERBs, ADJectives and PRONouns in a song (actions vs. feelings)"
   ]
  },
  {
   "cell_type": "code",
   "execution_count": 2,
   "metadata": {
    "id": "WeXc0-KHinD1"
   },
   "outputs": [],
   "source": [
    "import pandas as pd\n",
    "import numpy as np\n",
    "from conllu import parse\n",
    "from ufal.udpipe import Model, Pipeline\n",
    "from tqdm.auto import tqdm\n",
    "import matplotlib.pyplot as plt"
   ]
  },
  {
   "cell_type": "code",
   "execution_count": 3,
   "metadata": {
    "id": "4QdbwTy2inD3"
   },
   "outputs": [],
   "source": [
    "data = pd.read_csv('./data/final_data.csv')"
   ]
  },
  {
   "cell_type": "code",
   "execution_count": 21,
   "metadata": {
    "colab": {
     "base_uri": "https://localhost:8080/",
     "height": 206
    },
    "id": "vLJ-OxT-inD3",
    "outputId": "99f9b97e-bb15-436c-b98a-417734d6ee4a"
   },
   "outputs": [
    {
     "data": {
      "text/html": [
       "<div>\n",
       "<style scoped>\n",
       "    .dataframe tbody tr th:only-of-type {\n",
       "        vertical-align: middle;\n",
       "    }\n",
       "\n",
       "    .dataframe tbody tr th {\n",
       "        vertical-align: top;\n",
       "    }\n",
       "\n",
       "    .dataframe thead th {\n",
       "        text-align: right;\n",
       "    }\n",
       "</style>\n",
       "<table border=\"1\" class=\"dataframe\">\n",
       "  <thead>\n",
       "    <tr style=\"text-align: right;\">\n",
       "      <th></th>\n",
       "      <th>subset</th>\n",
       "      <th>author</th>\n",
       "      <th>song</th>\n",
       "      <th>genre</th>\n",
       "      <th>lyrics</th>\n",
       "      <th>tokenized</th>\n",
       "      <th>length</th>\n",
       "    </tr>\n",
       "  </thead>\n",
       "  <tbody>\n",
       "    <tr>\n",
       "      <th>0</th>\n",
       "      <td>tr</td>\n",
       "      <td>chance the rappe</td>\n",
       "      <td>unk228</td>\n",
       "      <td>Rap</td>\n",
       "      <td>Another weekend full of blunts and brews\\nToo ...</td>\n",
       "      <td>Another weekend full of blunts and brews \\n To...</td>\n",
       "      <td>166</td>\n",
       "    </tr>\n",
       "    <tr>\n",
       "      <th>1</th>\n",
       "      <td>tr</td>\n",
       "      <td>megan &amp; liz</td>\n",
       "      <td>love war</td>\n",
       "      <td>Country</td>\n",
       "      <td>i do n't believe in wizards or witches , but b...</td>\n",
       "      <td>i do n't believe in wizards or witches , but b...</td>\n",
       "      <td>210</td>\n",
       "    </tr>\n",
       "    <tr>\n",
       "      <th>2</th>\n",
       "      <td>tr</td>\n",
       "      <td>jamiroquai</td>\n",
       "      <td>if i like it, i do it</td>\n",
       "      <td>Pop</td>\n",
       "      <td>if i like it i just do it , say that we have a...</td>\n",
       "      <td>if i like it i just do it , say that we have a...</td>\n",
       "      <td>332</td>\n",
       "    </tr>\n",
       "    <tr>\n",
       "      <th>3</th>\n",
       "      <td>tr</td>\n",
       "      <td>drake</td>\n",
       "      <td>unk172</td>\n",
       "      <td>Rap</td>\n",
       "      <td>Done sayin' I'm done playin'\\nLast time was on...</td>\n",
       "      <td>Done sayin ' I 'm done playin ' \\n Last time w...</td>\n",
       "      <td>271</td>\n",
       "    </tr>\n",
       "    <tr>\n",
       "      <th>4</th>\n",
       "      <td>tr</td>\n",
       "      <td>j cole</td>\n",
       "      <td>unk152</td>\n",
       "      <td>Rap</td>\n",
       "      <td>This next three bars is dedicated to the retar...</td>\n",
       "      <td>This next three bars is dedicated to the retar...</td>\n",
       "      <td>121</td>\n",
       "    </tr>\n",
       "  </tbody>\n",
       "</table>\n",
       "</div>"
      ],
      "text/plain": [
       "  subset  ... length\n",
       "0     tr  ...    166\n",
       "1     tr  ...    210\n",
       "2     tr  ...    332\n",
       "3     tr  ...    271\n",
       "4     tr  ...    121\n",
       "\n",
       "[5 rows x 7 columns]"
      ]
     },
     "execution_count": 21,
     "metadata": {
      "tags": []
     },
     "output_type": "execute_result"
    }
   ],
   "source": [
    "data.head()"
   ]
  },
  {
   "cell_type": "markdown",
   "metadata": {
    "id": "sJJNZWJdinD6"
   },
   "source": [
    "## 1. Tree depth"
   ]
  },
  {
   "cell_type": "code",
   "execution_count": null,
   "metadata": {
    "id": "uJUIcwT2inD7"
   },
   "outputs": [],
   "source": [
    "UDPIPE_MODEL_FN = \"model_ru.udpipe\"\n",
    "!wget -O {UDPIPE_MODEL_FN} https://github.com/jwijffels/udpipe.models.ud.2.0/blob/master/inst/udpipe-ud-2.0-170801/english-ud-2.0-170801.udpipe?raw=true"
   ]
  },
  {
   "cell_type": "code",
   "execution_count": null,
   "metadata": {
    "id": "lWRBco-PinD7"
   },
   "outputs": [],
   "source": [
    "model = Model.load(UDPIPE_MODEL_FN)"
   ]
  },
  {
   "cell_type": "code",
   "execution_count": null,
   "metadata": {
    "id": "IKlZl_CYinD8"
   },
   "outputs": [],
   "source": [
    "pipeline = Pipeline(model, 'generic_tokenizer', '', '', '')\n",
    "example = \"If I were a sailboat I would sail you to the shore.\"\n",
    "text_analysis_str = pipeline.process(example)"
   ]
  },
  {
   "cell_type": "code",
   "execution_count": null,
   "metadata": {
    "id": "LNucXZb4inD8"
   },
   "outputs": [],
   "source": [
    "!pip install udapi"
   ]
  },
  {
   "cell_type": "code",
   "execution_count": null,
   "metadata": {
    "id": "cdCmTP_5inD9"
   },
   "outputs": [],
   "source": [
    "from udapi.block.read.conllu import Conllu\n",
    "from udapi.block.write.textmodetrees import TextModeTrees\n",
    "from io import StringIO\n",
    "\n",
    "\n",
    "def tree_depth(tree):\n",
    "    depth = 0\n",
    "    stack = [tree]\n",
    "    while (len(stack)):\n",
    "        curr_node = stack[0]\n",
    "        stack.pop(0)\n",
    "        if curr_node.children:\n",
    "            depth += 1\n",
    "        for node in range(len(curr_node.children) -1, -1, -1):\n",
    "            stack.insert(0, curr_node.children[node])\n",
    "    return depth\n",
    "\n",
    "\n",
    "def get_depth(sentence):\n",
    "    tree = Conllu(filehandle=StringIO(sentence)).read_tree()\n",
    "    return tree_depth(tree)"
   ]
  },
  {
   "cell_type": "code",
   "execution_count": null,
   "metadata": {
    "id": "qfoTveO8inD9"
   },
   "outputs": [],
   "source": [
    "def mean_depth(song):\n",
    "    song = song.replace('\\\\', '')\n",
    "    all_sentences = [pipeline.process(sent) for sent in tokenize.sent_tokenize(song)]\n",
    "    all_depths = [get_depth(i) for i in all_sentences]\n",
    "    return np.mean(all_depths)"
   ]
  },
  {
   "cell_type": "code",
   "execution_count": null,
   "metadata": {
    "id": "Kd6Xn7HkinD-"
   },
   "outputs": [],
   "source": [
    "depths = []"
   ]
  },
  {
   "cell_type": "code",
   "execution_count": null,
   "metadata": {
    "id": "ZvLm1T_kinD-"
   },
   "outputs": [],
   "source": [
    "for line in tqdm(data['lyrics'], total=45437):\n",
    "    if type(line) != str:\n",
    "        depths.append(None)\n",
    "        continue       \n",
    "    try:\n",
    "        depths.append(mean_depth(line))\n",
    "    except:\n",
    "        depths.append(None)"
   ]
  },
  {
   "cell_type": "code",
   "execution_count": null,
   "metadata": {
    "id": "ejmePQMHinD_"
   },
   "outputs": [],
   "source": [
    "data['mean_depth'] = depths"
   ]
  },
  {
   "cell_type": "code",
   "execution_count": null,
   "metadata": {
    "id": "fqUTJ_0dinD_",
    "outputId": "52cb4a12-3d10-425a-ca48-42a1bc410454"
   },
   "outputs": [
    {
     "data": {
      "text/html": [
       "<div>\n",
       "<style scoped>\n",
       "    .dataframe tbody tr th:only-of-type {\n",
       "        vertical-align: middle;\n",
       "    }\n",
       "\n",
       "    .dataframe tbody tr th {\n",
       "        vertical-align: top;\n",
       "    }\n",
       "\n",
       "    .dataframe thead th {\n",
       "        text-align: right;\n",
       "    }\n",
       "</style>\n",
       "<table border=\"1\" class=\"dataframe\">\n",
       "  <thead>\n",
       "    <tr style=\"text-align: right;\">\n",
       "      <th></th>\n",
       "      <th>subset</th>\n",
       "      <th>author</th>\n",
       "      <th>song</th>\n",
       "      <th>genre</th>\n",
       "      <th>lyrics</th>\n",
       "      <th>tokenized</th>\n",
       "      <th>length</th>\n",
       "      <th>mean_depth</th>\n",
       "    </tr>\n",
       "  </thead>\n",
       "  <tbody>\n",
       "    <tr>\n",
       "      <th>0</th>\n",
       "      <td>tr</td>\n",
       "      <td>chance the rappe</td>\n",
       "      <td>unk228</td>\n",
       "      <td>Rap</td>\n",
       "      <td>Another weekend full of blunts and brews\\nToo ...</td>\n",
       "      <td>Another weekend full of blunts and brews \\n To...</td>\n",
       "      <td>166</td>\n",
       "      <td>68.000000</td>\n",
       "    </tr>\n",
       "    <tr>\n",
       "      <th>1</th>\n",
       "      <td>tr</td>\n",
       "      <td>megan &amp; liz</td>\n",
       "      <td>love war</td>\n",
       "      <td>Country</td>\n",
       "      <td>i do n't believe in wizards or witches , but b...</td>\n",
       "      <td>i do n't believe in wizards or witches , but b...</td>\n",
       "      <td>210</td>\n",
       "      <td>13.200000</td>\n",
       "    </tr>\n",
       "    <tr>\n",
       "      <th>2</th>\n",
       "      <td>tr</td>\n",
       "      <td>jamiroquai</td>\n",
       "      <td>if i like it, i do it</td>\n",
       "      <td>Pop</td>\n",
       "      <td>if i like it i just do it , say that we have a...</td>\n",
       "      <td>if i like it i just do it , say that we have a...</td>\n",
       "      <td>332</td>\n",
       "      <td>29.750000</td>\n",
       "    </tr>\n",
       "    <tr>\n",
       "      <th>3</th>\n",
       "      <td>tr</td>\n",
       "      <td>drake</td>\n",
       "      <td>unk172</td>\n",
       "      <td>Rap</td>\n",
       "      <td>Done sayin' I'm done playin'\\nLast time was on...</td>\n",
       "      <td>Done sayin ' I 'm done playin ' \\n Last time w...</td>\n",
       "      <td>271</td>\n",
       "      <td>33.666667</td>\n",
       "    </tr>\n",
       "    <tr>\n",
       "      <th>4</th>\n",
       "      <td>tr</td>\n",
       "      <td>j cole</td>\n",
       "      <td>unk152</td>\n",
       "      <td>Rap</td>\n",
       "      <td>This next three bars is dedicated to the retar...</td>\n",
       "      <td>This next three bars is dedicated to the retar...</td>\n",
       "      <td>121</td>\n",
       "      <td>48.000000</td>\n",
       "    </tr>\n",
       "  </tbody>\n",
       "</table>\n",
       "</div>"
      ],
      "text/plain": [
       "  subset            author                   song    genre  \\\n",
       "0     tr  chance the rappe                 unk228      Rap   \n",
       "1     tr       megan & liz               love war  Country   \n",
       "2     tr        jamiroquai  if i like it, i do it      Pop   \n",
       "3     tr             drake                 unk172      Rap   \n",
       "4     tr            j cole                 unk152      Rap   \n",
       "\n",
       "                                              lyrics  \\\n",
       "0  Another weekend full of blunts and brews\\nToo ...   \n",
       "1  i do n't believe in wizards or witches , but b...   \n",
       "2  if i like it i just do it , say that we have a...   \n",
       "3  Done sayin' I'm done playin'\\nLast time was on...   \n",
       "4  This next three bars is dedicated to the retar...   \n",
       "\n",
       "                                           tokenized  length  mean_depth  \n",
       "0  Another weekend full of blunts and brews \\n To...     166   68.000000  \n",
       "1  i do n't believe in wizards or witches , but b...     210   13.200000  \n",
       "2  if i like it i just do it , say that we have a...     332   29.750000  \n",
       "3  Done sayin ' I 'm done playin ' \\n Last time w...     271   33.666667  \n",
       "4  This next three bars is dedicated to the retar...     121   48.000000  "
      ]
     },
     "execution_count": 57,
     "metadata": {
      "tags": []
     },
     "output_type": "execute_result"
    }
   ],
   "source": [
    "data"
   ]
  },
  {
   "cell_type": "markdown",
   "metadata": {
    "id": "xuBeZGE0inEB"
   },
   "source": [
    "## 2. POS tags"
   ]
  },
  {
   "cell_type": "code",
   "execution_count": null,
   "metadata": {
    "id": "Nu-jPgD5inEB"
   },
   "outputs": [],
   "source": [
    "import nltk\n",
    "nltk.download('punkt')\n",
    "nltk.download('averaged_perceptron_tagger')\n",
    "from nltk.tag import pos_tag\n",
    "from nltk.tokenize import word_tokenize\n",
    "from collections import Counter\n",
    "\n",
    "\n",
    "pos_counts = []\n",
    "for text in tqdm(data['lyrics']):\n",
    "    pos_count = Counter([j for i,j in pos_tag(word_tokenize(text))])\n",
    "    vector = [pos_count['NN'], pos_count['VB'], pos_count['JJ'], pos_count['PRP']]\n",
    "    pos_counts.append(np.array(vector))"
   ]
  },
  {
   "cell_type": "code",
   "execution_count": null,
   "metadata": {
    "id": "He9k9UKginEC"
   },
   "outputs": [],
   "source": [
    "data['pos_count'] = pos_counts"
   ]
  },
  {
   "cell_type": "code",
   "execution_count": null,
   "metadata": {
    "id": "wt_SugaJinED"
   },
   "outputs": [],
   "source": [
    "def split_pos(data):\n",
    "    columns = data.columns.tolist()\n",
    "    columns.remove('pos_count')\n",
    "    new = []\n",
    "    for ind, sent in tqdm(data.iterrows(), total=len(data)):\n",
    "        song = []\n",
    "        for i in columns:\n",
    "            song.append(sent[i])\n",
    "        song.extend(sent['pos_count'].strip('[]').split())   \n",
    "        new.append(song)\n",
    "    columns.extend(['NOUN', 'VERB', 'ADJ', 'PRON'])\n",
    "    return pd.DataFrame(new, columns=columns)"
   ]
  },
  {
   "cell_type": "code",
   "execution_count": null,
   "metadata": {
    "id": "dXqCinpXinEE"
   },
   "outputs": [],
   "source": [
    "data = split_pos(data)"
   ]
  },
  {
   "cell_type": "code",
   "execution_count": null,
   "metadata": {
    "id": "HDDJTSxTinEE",
    "outputId": "4dd22fdd-6aa2-4061-c85a-921e57594876"
   },
   "outputs": [
    {
     "data": {
      "text/html": [
       "<div>\n",
       "<style scoped>\n",
       "    .dataframe tbody tr th:only-of-type {\n",
       "        vertical-align: middle;\n",
       "    }\n",
       "\n",
       "    .dataframe tbody tr th {\n",
       "        vertical-align: top;\n",
       "    }\n",
       "\n",
       "    .dataframe thead th {\n",
       "        text-align: right;\n",
       "    }\n",
       "</style>\n",
       "<table border=\"1\" class=\"dataframe\">\n",
       "  <thead>\n",
       "    <tr style=\"text-align: right;\">\n",
       "      <th></th>\n",
       "      <th>subset</th>\n",
       "      <th>author</th>\n",
       "      <th>song</th>\n",
       "      <th>genre</th>\n",
       "      <th>lyrics</th>\n",
       "      <th>tokenized</th>\n",
       "      <th>length</th>\n",
       "      <th>mean_depth</th>\n",
       "      <th>NOUN</th>\n",
       "      <th>VERB</th>\n",
       "      <th>ADJ</th>\n",
       "      <th>PRON</th>\n",
       "    </tr>\n",
       "  </thead>\n",
       "  <tbody>\n",
       "    <tr>\n",
       "      <th>0</th>\n",
       "      <td>tr</td>\n",
       "      <td>chance the rappe</td>\n",
       "      <td>unk228</td>\n",
       "      <td>Rap</td>\n",
       "      <td>Another weekend full of blunts and brews\\nToo ...</td>\n",
       "      <td>Another weekend full of blunts and brews \\n To...</td>\n",
       "      <td>166</td>\n",
       "      <td>68.000000</td>\n",
       "      <td>22</td>\n",
       "      <td>5</td>\n",
       "      <td>6</td>\n",
       "      <td>10</td>\n",
       "    </tr>\n",
       "    <tr>\n",
       "      <th>1</th>\n",
       "      <td>tr</td>\n",
       "      <td>megan &amp; liz</td>\n",
       "      <td>love war</td>\n",
       "      <td>Country</td>\n",
       "      <td>i do n't believe in wizards or witches , but b...</td>\n",
       "      <td>i do n't believe in wizards or witches , but b...</td>\n",
       "      <td>210</td>\n",
       "      <td>13.200000</td>\n",
       "      <td>15</td>\n",
       "      <td>14</td>\n",
       "      <td>12</td>\n",
       "      <td>18</td>\n",
       "    </tr>\n",
       "    <tr>\n",
       "      <th>2</th>\n",
       "      <td>tr</td>\n",
       "      <td>jamiroquai</td>\n",
       "      <td>if i like it, i do it</td>\n",
       "      <td>Pop</td>\n",
       "      <td>if i like it i just do it , say that we have a...</td>\n",
       "      <td>if i like it i just do it , say that we have a...</td>\n",
       "      <td>332</td>\n",
       "      <td>29.750000</td>\n",
       "      <td>41</td>\n",
       "      <td>27</td>\n",
       "      <td>16</td>\n",
       "      <td>31</td>\n",
       "    </tr>\n",
       "    <tr>\n",
       "      <th>3</th>\n",
       "      <td>tr</td>\n",
       "      <td>drake</td>\n",
       "      <td>unk172</td>\n",
       "      <td>Rap</td>\n",
       "      <td>Done sayin' I'm done playin'\\nLast time was on...</td>\n",
       "      <td>Done sayin ' I 'm done playin ' \\n Last time w...</td>\n",
       "      <td>271</td>\n",
       "      <td>33.666667</td>\n",
       "      <td>24</td>\n",
       "      <td>12</td>\n",
       "      <td>10</td>\n",
       "      <td>34</td>\n",
       "    </tr>\n",
       "    <tr>\n",
       "      <th>4</th>\n",
       "      <td>tr</td>\n",
       "      <td>j cole</td>\n",
       "      <td>unk152</td>\n",
       "      <td>Rap</td>\n",
       "      <td>This next three bars is dedicated to the retar...</td>\n",
       "      <td>This next three bars is dedicated to the retar...</td>\n",
       "      <td>121</td>\n",
       "      <td>48.000000</td>\n",
       "      <td>5</td>\n",
       "      <td>4</td>\n",
       "      <td>9</td>\n",
       "      <td>16</td>\n",
       "    </tr>\n",
       "  </tbody>\n",
       "</table>\n",
       "</div>"
      ],
      "text/plain": [
       "  subset            author                   song    genre  \\\n",
       "0     tr  chance the rappe                 unk228      Rap   \n",
       "1     tr       megan & liz               love war  Country   \n",
       "2     tr        jamiroquai  if i like it, i do it      Pop   \n",
       "3     tr             drake                 unk172      Rap   \n",
       "4     tr            j cole                 unk152      Rap   \n",
       "\n",
       "                                              lyrics  \\\n",
       "0  Another weekend full of blunts and brews\\nToo ...   \n",
       "1  i do n't believe in wizards or witches , but b...   \n",
       "2  if i like it i just do it , say that we have a...   \n",
       "3  Done sayin' I'm done playin'\\nLast time was on...   \n",
       "4  This next three bars is dedicated to the retar...   \n",
       "\n",
       "                                           tokenized  length  mean_depth  \\\n",
       "0  Another weekend full of blunts and brews \\n To...     166   68.000000   \n",
       "1  i do n't believe in wizards or witches , but b...     210   13.200000   \n",
       "2  if i like it i just do it , say that we have a...     332   29.750000   \n",
       "3  Done sayin ' I 'm done playin ' \\n Last time w...     271   33.666667   \n",
       "4  This next three bars is dedicated to the retar...     121   48.000000   \n",
       "\n",
       "   NOUN  VERB  ADJ  PRON  \n",
       "0    22     5    6    10  \n",
       "1    15    14   12    18  \n",
       "2    41    27   16    31  \n",
       "3    24    12   10    34  \n",
       "4     5     4    9    16  "
      ]
     },
     "execution_count": 55,
     "metadata": {
      "tags": []
     },
     "output_type": "execute_result"
    }
   ],
   "source": [
    "data"
   ]
  },
  {
   "cell_type": "markdown",
   "metadata": {
    "id": "OBtF4WKkinEF"
   },
   "source": [
    "## 3. NER"
   ]
  },
  {
   "cell_type": "code",
   "execution_count": null,
   "metadata": {
    "id": "KMSX42yginEF"
   },
   "outputs": [],
   "source": [
    "import spacy\n",
    "from spacy import displacy\n",
    "import en_core_web_sm\n",
    "nlp = en_core_web_sm.load()"
   ]
  },
  {
   "cell_type": "code",
   "execution_count": null,
   "metadata": {
    "id": "laTxDjDUinEG"
   },
   "outputs": [],
   "source": [
    "ne_ratio = []\n",
    "for text in tqdm(data['lyrics']):\n",
    "    doc = nlp(text)\n",
    "    names = len(doc.ents) / len([n.lemma_ for n in doc if not n.is_punct])\n",
    "    ne_ratio.append(names)"
   ]
  },
  {
   "cell_type": "code",
   "execution_count": null,
   "metadata": {
    "id": "D5MbWspRinEG"
   },
   "outputs": [],
   "source": [
    "data['ne_ratio'] = ne_ratio"
   ]
  },
  {
   "cell_type": "code",
   "execution_count": null,
   "metadata": {
    "id": "YlbDKN2WinEG",
    "outputId": "fa0072bd-81af-4be4-c374-3be69b4a0919"
   },
   "outputs": [
    {
     "data": {
      "text/html": [
       "<div>\n",
       "<style scoped>\n",
       "    .dataframe tbody tr th:only-of-type {\n",
       "        vertical-align: middle;\n",
       "    }\n",
       "\n",
       "    .dataframe tbody tr th {\n",
       "        vertical-align: top;\n",
       "    }\n",
       "\n",
       "    .dataframe thead th {\n",
       "        text-align: right;\n",
       "    }\n",
       "</style>\n",
       "<table border=\"1\" class=\"dataframe\">\n",
       "  <thead>\n",
       "    <tr style=\"text-align: right;\">\n",
       "      <th></th>\n",
       "      <th>subset</th>\n",
       "      <th>author</th>\n",
       "      <th>song</th>\n",
       "      <th>genre</th>\n",
       "      <th>lyrics</th>\n",
       "      <th>tokenized</th>\n",
       "      <th>length</th>\n",
       "      <th>mean_depth</th>\n",
       "      <th>NOUN</th>\n",
       "      <th>VERB</th>\n",
       "      <th>ADJ</th>\n",
       "      <th>PRON</th>\n",
       "      <th>ne_ratio</th>\n",
       "    </tr>\n",
       "  </thead>\n",
       "  <tbody>\n",
       "    <tr>\n",
       "      <th>0</th>\n",
       "      <td>tr</td>\n",
       "      <td>chance the rappe</td>\n",
       "      <td>unk228</td>\n",
       "      <td>Rap</td>\n",
       "      <td>Another weekend full of blunts and brews\\nToo ...</td>\n",
       "      <td>Another weekend full of blunts and brews \\n To...</td>\n",
       "      <td>166</td>\n",
       "      <td>68.000000</td>\n",
       "      <td>22</td>\n",
       "      <td>5</td>\n",
       "      <td>6</td>\n",
       "      <td>10</td>\n",
       "      <td>0.060606</td>\n",
       "    </tr>\n",
       "    <tr>\n",
       "      <th>1</th>\n",
       "      <td>tr</td>\n",
       "      <td>megan &amp; liz</td>\n",
       "      <td>love war</td>\n",
       "      <td>Country</td>\n",
       "      <td>i do n't believe in wizards or witches , but b...</td>\n",
       "      <td>i do n't believe in wizards or witches , but b...</td>\n",
       "      <td>210</td>\n",
       "      <td>13.200000</td>\n",
       "      <td>15</td>\n",
       "      <td>14</td>\n",
       "      <td>12</td>\n",
       "      <td>18</td>\n",
       "      <td>0.000000</td>\n",
       "    </tr>\n",
       "    <tr>\n",
       "      <th>2</th>\n",
       "      <td>tr</td>\n",
       "      <td>jamiroquai</td>\n",
       "      <td>if i like it, i do it</td>\n",
       "      <td>Pop</td>\n",
       "      <td>if i like it i just do it , say that we have a...</td>\n",
       "      <td>if i like it i just do it , say that we have a...</td>\n",
       "      <td>332</td>\n",
       "      <td>29.750000</td>\n",
       "      <td>41</td>\n",
       "      <td>27</td>\n",
       "      <td>16</td>\n",
       "      <td>31</td>\n",
       "      <td>0.000000</td>\n",
       "    </tr>\n",
       "    <tr>\n",
       "      <th>3</th>\n",
       "      <td>tr</td>\n",
       "      <td>drake</td>\n",
       "      <td>unk172</td>\n",
       "      <td>Rap</td>\n",
       "      <td>Done sayin' I'm done playin'\\nLast time was on...</td>\n",
       "      <td>Done sayin ' I 'm done playin ' \\n Last time w...</td>\n",
       "      <td>271</td>\n",
       "      <td>33.666667</td>\n",
       "      <td>24</td>\n",
       "      <td>12</td>\n",
       "      <td>10</td>\n",
       "      <td>34</td>\n",
       "      <td>0.050193</td>\n",
       "    </tr>\n",
       "    <tr>\n",
       "      <th>4</th>\n",
       "      <td>tr</td>\n",
       "      <td>j cole</td>\n",
       "      <td>unk152</td>\n",
       "      <td>Rap</td>\n",
       "      <td>This next three bars is dedicated to the retar...</td>\n",
       "      <td>This next three bars is dedicated to the retar...</td>\n",
       "      <td>121</td>\n",
       "      <td>48.000000</td>\n",
       "      <td>5</td>\n",
       "      <td>4</td>\n",
       "      <td>9</td>\n",
       "      <td>16</td>\n",
       "      <td>0.053030</td>\n",
       "    </tr>\n",
       "  </tbody>\n",
       "</table>\n",
       "</div>"
      ],
      "text/plain": [
       "  subset            author                   song    genre  \\\n",
       "0     tr  chance the rappe                 unk228      Rap   \n",
       "1     tr       megan & liz               love war  Country   \n",
       "2     tr        jamiroquai  if i like it, i do it      Pop   \n",
       "3     tr             drake                 unk172      Rap   \n",
       "4     tr            j cole                 unk152      Rap   \n",
       "\n",
       "                                              lyrics  \\\n",
       "0  Another weekend full of blunts and brews\\nToo ...   \n",
       "1  i do n't believe in wizards or witches , but b...   \n",
       "2  if i like it i just do it , say that we have a...   \n",
       "3  Done sayin' I'm done playin'\\nLast time was on...   \n",
       "4  This next three bars is dedicated to the retar...   \n",
       "\n",
       "                                           tokenized  length  mean_depth  \\\n",
       "0  Another weekend full of blunts and brews \\n To...     166   68.000000   \n",
       "1  i do n't believe in wizards or witches , but b...     210   13.200000   \n",
       "2  if i like it i just do it , say that we have a...     332   29.750000   \n",
       "3  Done sayin ' I 'm done playin ' \\n Last time w...     271   33.666667   \n",
       "4  This next three bars is dedicated to the retar...     121   48.000000   \n",
       "\n",
       "   NOUN  VERB  ADJ  PRON  ne_ratio  \n",
       "0    22     5    6    10  0.060606  \n",
       "1    15    14   12    18  0.000000  \n",
       "2    41    27   16    31  0.000000  \n",
       "3    24    12   10    34  0.050193  \n",
       "4     5     4    9    16  0.053030  "
      ]
     },
     "execution_count": 61,
     "metadata": {
      "tags": []
     },
     "output_type": "execute_result"
    }
   ],
   "source": [
    "data"
   ]
  },
  {
   "cell_type": "markdown",
   "metadata": {
    "id": "LmHxIaRDinEH"
   },
   "source": [
    "## 4-5. Type-token & N-gram ratio"
   ]
  },
  {
   "cell_type": "code",
   "execution_count": null,
   "metadata": {
    "id": "vmmoZwzrinEJ"
   },
   "outputs": [],
   "source": [
    "from nltk.stem import WordNetLemmatizer\n",
    "from nltk import ngrams\n",
    "from string import punctuation\n",
    "\n",
    "wnl = WordNetLemmatizer()"
   ]
  },
  {
   "cell_type": "code",
   "execution_count": null,
   "metadata": {
    "id": "oN3uJpJsinEK"
   },
   "outputs": [],
   "source": [
    "def count_token_ratio(text):\n",
    "    length = len(text)\n",
    "    unique_length = len(set(text))\n",
    "    ratio = unique_length/length\n",
    "    return ratio"
   ]
  },
  {
   "cell_type": "code",
   "execution_count": null,
   "metadata": {
    "id": "Z15gwyVAinEK"
   },
   "outputs": [],
   "source": [
    "def count_ngram(text):\n",
    "    bigrams = list(ngrams(text, 2))\n",
    "    trigrams = list(ngrams(text, 3))\n",
    "    tokens = text + bigrams + trigrams\n",
    "    unique = len(set(tokens))\n",
    "    length = len(tokens)\n",
    "    return unique/length"
   ]
  },
  {
   "cell_type": "code",
   "execution_count": null,
   "metadata": {
    "id": "ZNJoEa7minEL"
   },
   "outputs": [],
   "source": [
    "ratio = []\n",
    "ngrams_ratio = []"
   ]
  },
  {
   "cell_type": "code",
   "execution_count": null,
   "metadata": {
    "id": "rTWbSuAWinEL",
    "outputId": "7cf5d354-90a6-481f-9b08-a51c2780274a"
   },
   "outputs": [
    {
     "data": {
      "application/vnd.jupyter.widget-view+json": {
       "model_id": "73a3e692ea59400b932ad3a8046c42c9",
       "version_major": 2,
       "version_minor": 0
      },
      "text/plain": [
       "HBox(children=(FloatProgress(value=0.0, max=20582.0), HTML(value='')))"
      ]
     },
     "metadata": {
      "tags": []
     },
     "output_type": "display_data"
    },
    {
     "name": "stdout",
     "output_type": "stream",
     "text": [
      "\n"
     ]
    }
   ],
   "source": [
    "for ind, song in tqdm(data.iterrows(), total=len(data)):\n",
    "    text = [wnl.lemmatize(w) for w in song['tokenized'].split() if w not in punctuation]\n",
    "    ratio.append(count_token_ratio(text))\n",
    "    ngrams_ratio.append(count_ngram(text))"
   ]
  },
  {
   "cell_type": "code",
   "execution_count": null,
   "metadata": {
    "id": "_FFiqTEwinEM"
   },
   "outputs": [],
   "source": [
    "data['type_token'] = ratio\n",
    "data['ngram_ratio'] = ngrams_ratio"
   ]
  },
  {
   "cell_type": "code",
   "execution_count": null,
   "metadata": {
    "id": "TW0QeUvoinEN",
    "outputId": "4a5815de-8106-4e3a-808b-9fbf447e8855"
   },
   "outputs": [
    {
     "data": {
      "text/html": [
       "<div>\n",
       "<style scoped>\n",
       "    .dataframe tbody tr th:only-of-type {\n",
       "        vertical-align: middle;\n",
       "    }\n",
       "\n",
       "    .dataframe tbody tr th {\n",
       "        vertical-align: top;\n",
       "    }\n",
       "\n",
       "    .dataframe thead th {\n",
       "        text-align: right;\n",
       "    }\n",
       "</style>\n",
       "<table border=\"1\" class=\"dataframe\">\n",
       "  <thead>\n",
       "    <tr style=\"text-align: right;\">\n",
       "      <th></th>\n",
       "      <th>subset</th>\n",
       "      <th>author</th>\n",
       "      <th>song</th>\n",
       "      <th>genre</th>\n",
       "      <th>lyrics</th>\n",
       "      <th>tokenized</th>\n",
       "      <th>length</th>\n",
       "      <th>mean_depth</th>\n",
       "      <th>NOUN</th>\n",
       "      <th>VERB</th>\n",
       "      <th>ADJ</th>\n",
       "      <th>PRON</th>\n",
       "      <th>ne_ratio</th>\n",
       "      <th>type_token</th>\n",
       "      <th>ngram_ratio</th>\n",
       "    </tr>\n",
       "  </thead>\n",
       "  <tbody>\n",
       "    <tr>\n",
       "      <th>0</th>\n",
       "      <td>tr</td>\n",
       "      <td>chance the rappe</td>\n",
       "      <td>unk228</td>\n",
       "      <td>Rap</td>\n",
       "      <td>Another weekend full of blunts and brews\\nToo ...</td>\n",
       "      <td>Another weekend full of blunts and brews \\n To...</td>\n",
       "      <td>166</td>\n",
       "      <td>68.000000</td>\n",
       "      <td>22</td>\n",
       "      <td>5</td>\n",
       "      <td>6</td>\n",
       "      <td>10</td>\n",
       "      <td>0.060606</td>\n",
       "      <td>0.721088</td>\n",
       "      <td>0.892694</td>\n",
       "    </tr>\n",
       "    <tr>\n",
       "      <th>1</th>\n",
       "      <td>tr</td>\n",
       "      <td>megan &amp; liz</td>\n",
       "      <td>love war</td>\n",
       "      <td>Country</td>\n",
       "      <td>i do n't believe in wizards or witches , but b...</td>\n",
       "      <td>i do n't believe in wizards or witches , but b...</td>\n",
       "      <td>210</td>\n",
       "      <td>13.200000</td>\n",
       "      <td>15</td>\n",
       "      <td>14</td>\n",
       "      <td>12</td>\n",
       "      <td>18</td>\n",
       "      <td>0.000000</td>\n",
       "      <td>0.488095</td>\n",
       "      <td>0.732535</td>\n",
       "    </tr>\n",
       "    <tr>\n",
       "      <th>2</th>\n",
       "      <td>tr</td>\n",
       "      <td>jamiroquai</td>\n",
       "      <td>if i like it, i do it</td>\n",
       "      <td>Pop</td>\n",
       "      <td>if i like it i just do it , say that we have a...</td>\n",
       "      <td>if i like it i just do it , say that we have a...</td>\n",
       "      <td>332</td>\n",
       "      <td>29.750000</td>\n",
       "      <td>41</td>\n",
       "      <td>27</td>\n",
       "      <td>16</td>\n",
       "      <td>31</td>\n",
       "      <td>0.000000</td>\n",
       "      <td>0.485915</td>\n",
       "      <td>0.729093</td>\n",
       "    </tr>\n",
       "    <tr>\n",
       "      <th>3</th>\n",
       "      <td>tr</td>\n",
       "      <td>drake</td>\n",
       "      <td>unk172</td>\n",
       "      <td>Rap</td>\n",
       "      <td>Done sayin' I'm done playin'\\nLast time was on...</td>\n",
       "      <td>Done sayin ' I 'm done playin ' \\n Last time w...</td>\n",
       "      <td>271</td>\n",
       "      <td>33.666667</td>\n",
       "      <td>24</td>\n",
       "      <td>12</td>\n",
       "      <td>10</td>\n",
       "      <td>34</td>\n",
       "      <td>0.050193</td>\n",
       "      <td>0.589958</td>\n",
       "      <td>0.826331</td>\n",
       "    </tr>\n",
       "    <tr>\n",
       "      <th>4</th>\n",
       "      <td>tr</td>\n",
       "      <td>j cole</td>\n",
       "      <td>unk152</td>\n",
       "      <td>Rap</td>\n",
       "      <td>This next three bars is dedicated to the retar...</td>\n",
       "      <td>This next three bars is dedicated to the retar...</td>\n",
       "      <td>121</td>\n",
       "      <td>48.000000</td>\n",
       "      <td>5</td>\n",
       "      <td>4</td>\n",
       "      <td>9</td>\n",
       "      <td>16</td>\n",
       "      <td>0.053030</td>\n",
       "      <td>0.737288</td>\n",
       "      <td>0.903134</td>\n",
       "    </tr>\n",
       "  </tbody>\n",
       "</table>\n",
       "</div>"
      ],
      "text/plain": [
       "  subset            author                   song    genre  \\\n",
       "0     tr  chance the rappe                 unk228      Rap   \n",
       "1     tr       megan & liz               love war  Country   \n",
       "2     tr        jamiroquai  if i like it, i do it      Pop   \n",
       "3     tr             drake                 unk172      Rap   \n",
       "4     tr            j cole                 unk152      Rap   \n",
       "\n",
       "                                              lyrics  \\\n",
       "0  Another weekend full of blunts and brews\\nToo ...   \n",
       "1  i do n't believe in wizards or witches , but b...   \n",
       "2  if i like it i just do it , say that we have a...   \n",
       "3  Done sayin' I'm done playin'\\nLast time was on...   \n",
       "4  This next three bars is dedicated to the retar...   \n",
       "\n",
       "                                           tokenized  length  mean_depth  \\\n",
       "0  Another weekend full of blunts and brews \\n To...     166   68.000000   \n",
       "1  i do n't believe in wizards or witches , but b...     210   13.200000   \n",
       "2  if i like it i just do it , say that we have a...     332   29.750000   \n",
       "3  Done sayin ' I 'm done playin ' \\n Last time w...     271   33.666667   \n",
       "4  This next three bars is dedicated to the retar...     121   48.000000   \n",
       "\n",
       "   NOUN  VERB  ADJ  PRON  ne_ratio  type_token  ngram_ratio  \n",
       "0    22     5    6    10  0.060606    0.721088     0.892694  \n",
       "1    15    14   12    18  0.000000    0.488095     0.732535  \n",
       "2    41    27   16    31  0.000000    0.485915     0.729093  \n",
       "3    24    12   10    34  0.050193    0.589958     0.826331  \n",
       "4     5     4    9    16  0.053030    0.737288     0.903134  "
      ]
     },
     "execution_count": 83,
     "metadata": {
      "tags": []
     },
     "output_type": "execute_result"
    }
   ],
   "source": [
    "data"
   ]
  },
  {
   "cell_type": "markdown",
   "metadata": {
    "id": "lUS5pywiinEP"
   },
   "source": [
    "## 6. Slang"
   ]
  },
  {
   "cell_type": "code",
   "execution_count": null,
   "metadata": {
    "id": "7Ce7Fl0FinEQ",
    "outputId": "708a434a-38e4-4603-eab0-d8dbab15f92e"
   },
   "outputs": [
    {
     "name": "stderr",
     "output_type": "stream",
     "text": [
      "[nltk_data] Downloading package words to /Users/katya/nltk_data...\n",
      "[nltk_data]   Package words is already up-to-date!\n"
     ]
    },
    {
     "data": {
      "text/plain": [
       "True"
      ]
     },
     "execution_count": 87,
     "metadata": {
      "tags": []
     },
     "output_type": "execute_result"
    }
   ],
   "source": [
    "from nltk.corpus import words\n",
    "nltk.download('words')"
   ]
  },
  {
   "cell_type": "code",
   "execution_count": null,
   "metadata": {
    "id": "tiiOSu3AinER"
   },
   "outputs": [],
   "source": [
    "slang = []"
   ]
  },
  {
   "cell_type": "code",
   "execution_count": null,
   "metadata": {
    "id": "2D2K5bW4inER",
    "outputId": "7057b103-ce32-4bf8-dc28-b5d2fe1d2baf"
   },
   "outputs": [
    {
     "data": {
      "application/vnd.jupyter.widget-view+json": {
       "model_id": "",
       "version_major": 2,
       "version_minor": 0
      },
      "text/plain": [
       "HBox(children=(FloatProgress(value=0.0, max=20582.0), HTML(value='')))"
      ]
     },
     "metadata": {
      "tags": []
     },
     "output_type": "display_data"
    }
   ],
   "source": [
    "for ind, song in tqdm(data.iterrows(), total=len(data)):\n",
    "    word_list = set([w for w in song['tokenized'] if w not in punctuation])\n",
    "    length = len(word_list)\n",
    "    counter = len(set.intersection(word_list, words.words()))\n",
    "    slang.append(counter/length)"
   ]
  },
  {
   "cell_type": "code",
   "execution_count": null,
   "metadata": {
    "id": "w7iH9wP-inES"
   },
   "outputs": [],
   "source": [
    "data['slang'] = slang"
   ]
  },
  {
   "cell_type": "code",
   "execution_count": null,
   "metadata": {
    "id": "-d1QtpHZinET",
    "outputId": "98cadf12-76d5-48b5-bfbf-8c6adcb5a4ad"
   },
   "outputs": [
    {
     "data": {
      "text/html": [
       "<div>\n",
       "<style scoped>\n",
       "    .dataframe tbody tr th:only-of-type {\n",
       "        vertical-align: middle;\n",
       "    }\n",
       "\n",
       "    .dataframe tbody tr th {\n",
       "        vertical-align: top;\n",
       "    }\n",
       "\n",
       "    .dataframe thead th {\n",
       "        text-align: right;\n",
       "    }\n",
       "</style>\n",
       "<table border=\"1\" class=\"dataframe\">\n",
       "  <thead>\n",
       "    <tr style=\"text-align: right;\">\n",
       "      <th></th>\n",
       "      <th>subset</th>\n",
       "      <th>author</th>\n",
       "      <th>song</th>\n",
       "      <th>genre</th>\n",
       "      <th>lyrics</th>\n",
       "      <th>tokenized</th>\n",
       "      <th>length</th>\n",
       "      <th>mean_depth</th>\n",
       "      <th>NOUN</th>\n",
       "      <th>VERB</th>\n",
       "      <th>ADJ</th>\n",
       "      <th>PRON</th>\n",
       "      <th>ne_ratio</th>\n",
       "      <th>type_token</th>\n",
       "      <th>ngram_ratio</th>\n",
       "      <th>slang</th>\n",
       "    </tr>\n",
       "  </thead>\n",
       "  <tbody>\n",
       "    <tr>\n",
       "      <th>0</th>\n",
       "      <td>tr</td>\n",
       "      <td>chance the rappe</td>\n",
       "      <td>unk228</td>\n",
       "      <td>Rap</td>\n",
       "      <td>Another weekend full of blunts and brews\\nToo ...</td>\n",
       "      <td>Another weekend full of blunts and brews \\n To...</td>\n",
       "      <td>166</td>\n",
       "      <td>68.000000</td>\n",
       "      <td>22</td>\n",
       "      <td>5</td>\n",
       "      <td>6</td>\n",
       "      <td>10</td>\n",
       "      <td>0.060606</td>\n",
       "      <td>0.721088</td>\n",
       "      <td>0.892694</td>\n",
       "      <td>0.906977</td>\n",
       "    </tr>\n",
       "    <tr>\n",
       "      <th>1</th>\n",
       "      <td>tr</td>\n",
       "      <td>megan &amp; liz</td>\n",
       "      <td>love war</td>\n",
       "      <td>Country</td>\n",
       "      <td>i do n't believe in wizards or witches , but b...</td>\n",
       "      <td>i do n't believe in wizards or witches , but b...</td>\n",
       "      <td>210</td>\n",
       "      <td>13.200000</td>\n",
       "      <td>15</td>\n",
       "      <td>14</td>\n",
       "      <td>12</td>\n",
       "      <td>18</td>\n",
       "      <td>0.000000</td>\n",
       "      <td>0.488095</td>\n",
       "      <td>0.732535</td>\n",
       "      <td>0.960000</td>\n",
       "    </tr>\n",
       "    <tr>\n",
       "      <th>2</th>\n",
       "      <td>tr</td>\n",
       "      <td>jamiroquai</td>\n",
       "      <td>if i like it, i do it</td>\n",
       "      <td>Pop</td>\n",
       "      <td>if i like it i just do it , say that we have a...</td>\n",
       "      <td>if i like it i just do it , say that we have a...</td>\n",
       "      <td>332</td>\n",
       "      <td>29.750000</td>\n",
       "      <td>41</td>\n",
       "      <td>27</td>\n",
       "      <td>16</td>\n",
       "      <td>31</td>\n",
       "      <td>0.000000</td>\n",
       "      <td>0.485915</td>\n",
       "      <td>0.729093</td>\n",
       "      <td>0.960000</td>\n",
       "    </tr>\n",
       "    <tr>\n",
       "      <th>3</th>\n",
       "      <td>tr</td>\n",
       "      <td>drake</td>\n",
       "      <td>unk172</td>\n",
       "      <td>Rap</td>\n",
       "      <td>Done sayin' I'm done playin'\\nLast time was on...</td>\n",
       "      <td>Done sayin ' I 'm done playin ' \\n Last time w...</td>\n",
       "      <td>271</td>\n",
       "      <td>33.666667</td>\n",
       "      <td>24</td>\n",
       "      <td>12</td>\n",
       "      <td>10</td>\n",
       "      <td>34</td>\n",
       "      <td>0.050193</td>\n",
       "      <td>0.589958</td>\n",
       "      <td>0.826331</td>\n",
       "      <td>0.878049</td>\n",
       "    </tr>\n",
       "    <tr>\n",
       "      <th>4</th>\n",
       "      <td>tr</td>\n",
       "      <td>j cole</td>\n",
       "      <td>unk152</td>\n",
       "      <td>Rap</td>\n",
       "      <td>This next three bars is dedicated to the retar...</td>\n",
       "      <td>This next three bars is dedicated to the retar...</td>\n",
       "      <td>121</td>\n",
       "      <td>48.000000</td>\n",
       "      <td>5</td>\n",
       "      <td>4</td>\n",
       "      <td>9</td>\n",
       "      <td>16</td>\n",
       "      <td>0.053030</td>\n",
       "      <td>0.737288</td>\n",
       "      <td>0.903134</td>\n",
       "      <td>0.941176</td>\n",
       "    </tr>\n",
       "  </tbody>\n",
       "</table>\n",
       "</div>"
      ],
      "text/plain": [
       "  subset            author                   song    genre  \\\n",
       "0     tr  chance the rappe                 unk228      Rap   \n",
       "1     tr       megan & liz               love war  Country   \n",
       "2     tr        jamiroquai  if i like it, i do it      Pop   \n",
       "3     tr             drake                 unk172      Rap   \n",
       "4     tr            j cole                 unk152      Rap   \n",
       "\n",
       "                                              lyrics  \\\n",
       "0  Another weekend full of blunts and brews\\nToo ...   \n",
       "1  i do n't believe in wizards or witches , but b...   \n",
       "2  if i like it i just do it , say that we have a...   \n",
       "3  Done sayin' I'm done playin'\\nLast time was on...   \n",
       "4  This next three bars is dedicated to the retar...   \n",
       "\n",
       "                                           tokenized  length  mean_depth  \\\n",
       "0  Another weekend full of blunts and brews \\n To...     166   68.000000   \n",
       "1  i do n't believe in wizards or witches , but b...     210   13.200000   \n",
       "2  if i like it i just do it , say that we have a...     332   29.750000   \n",
       "3  Done sayin ' I 'm done playin ' \\n Last time w...     271   33.666667   \n",
       "4  This next three bars is dedicated to the retar...     121   48.000000   \n",
       "\n",
       "   NOUN  VERB  ADJ  PRON  ne_ratio  type_token  ngram_ratio     slang  \n",
       "0    22     5    6    10  0.060606    0.721088     0.892694  0.906977  \n",
       "1    15    14   12    18  0.000000    0.488095     0.732535  0.960000  \n",
       "2    41    27   16    31  0.000000    0.485915     0.729093  0.960000  \n",
       "3    24    12   10    34  0.050193    0.589958     0.826331  0.878049  \n",
       "4     5     4    9    16  0.053030    0.737288     0.903134  0.941176  "
      ]
     },
     "execution_count": 98,
     "metadata": {
      "tags": []
     },
     "output_type": "execute_result"
    }
   ],
   "source": [
    "data"
   ]
  },
  {
   "cell_type": "markdown",
   "metadata": {
    "id": "-Sx3gRsRinEU"
   },
   "source": [
    "## 7-8. Pronouns"
   ]
  },
  {
   "cell_type": "code",
   "execution_count": null,
   "metadata": {
    "id": "9EcSoUY2inEV"
   },
   "outputs": [],
   "source": [
    "self_to_nonself_referensing = []\n",
    "first_to_second_person = []"
   ]
  },
  {
   "cell_type": "code",
   "execution_count": null,
   "metadata": {
    "id": "k9mzLSn0inEV",
    "outputId": "deaf35ed-2efa-4476-82fa-1e97bd824530"
   },
   "outputs": [
    {
     "data": {
      "application/vnd.jupyter.widget-view+json": {
       "model_id": "68f7388b880a4245bff192e744955862",
       "version_major": 2,
       "version_minor": 0
      },
      "text/plain": [
       "HBox(children=(FloatProgress(value=0.0, max=20582.0), HTML(value='')))"
      ]
     },
     "metadata": {
      "tags": []
     },
     "output_type": "display_data"
    },
    {
     "name": "stdout",
     "output_type": "stream",
     "text": [
      "\n"
     ]
    }
   ],
   "source": [
    "for text in tqdm(data['tokenized'], total=len(data)):\n",
    "    pronouns = Counter()\n",
    "    for word in text.split():\n",
    "        word = word.lower()\n",
    "        if word == 'i' or word == 'me' or word == 'my' or word == 'mine':\n",
    "            pronouns['first_person_singular'] += 1\n",
    "        if word == 'we' or word == 'us' or word == 'our' or word == 'ours':\n",
    "            pronouns['first_person_plural'] += 1\n",
    "        if word == 'you' or word == 'your' or word == 'yours':\n",
    "            pronouns['second_person'] += 1\n",
    "        if word == 'she' or word == 'her' or word == 'hers':\n",
    "            pronouns['third_person'] += 1\n",
    "        if word == 'he' or word == 'his' or word == 'him':\n",
    "            pronouns['third_person'] += 1\n",
    "        if word == 'it' or word == 'its':\n",
    "            pronouns['third_person'] += 1\n",
    "        if word == 'they' or word == 'their' or word == 'theirs' or word == 'them':\n",
    "            pronouns['third_person'] += 1\n",
    "    first_person_all = pronouns['first_person_singular'] + pronouns['first_person_plural']\n",
    "    notfirst_all = pronouns['second_person'] + pronouns['third_person']\n",
    "    if first_person_all is not 0 and notfirst_all is not 0:\n",
    "        self_to_nonself = first_person_all / notfirst_all\n",
    "    else:\n",
    "        self_to_nonself = 0\n",
    "    self_to_nonself_referensing.append(round(self_to_nonself, 3))\n",
    "    if pronouns['first_person_singular'] is not 0 and pronouns['second_person'] is not 0:\n",
    "        first_to_second = pronouns['first_person_singular'] / pronouns['second_person']\n",
    "    else:\n",
    "        first_to_second = 0\n",
    "    first_to_second_person.append(round(first_to_second, 3))"
   ]
  },
  {
   "cell_type": "code",
   "execution_count": null,
   "metadata": {
    "id": "E2WsZC9UinEW"
   },
   "outputs": [],
   "source": [
    "data['pronouns_self_to_nonself'] = self_to_nonself_referensing\n",
    "data['pronouns_first_to_second'] = first_to_second_person"
   ]
  },
  {
   "cell_type": "code",
   "execution_count": null,
   "metadata": {
    "id": "gCYOqcjpinEW",
    "outputId": "d7efb93d-862b-4baf-8d7f-7b50392e4a4a"
   },
   "outputs": [
    {
     "data": {
      "text/html": [
       "<div>\n",
       "<style scoped>\n",
       "    .dataframe tbody tr th:only-of-type {\n",
       "        vertical-align: middle;\n",
       "    }\n",
       "\n",
       "    .dataframe tbody tr th {\n",
       "        vertical-align: top;\n",
       "    }\n",
       "\n",
       "    .dataframe thead th {\n",
       "        text-align: right;\n",
       "    }\n",
       "</style>\n",
       "<table border=\"1\" class=\"dataframe\">\n",
       "  <thead>\n",
       "    <tr style=\"text-align: right;\">\n",
       "      <th></th>\n",
       "      <th>subset</th>\n",
       "      <th>author</th>\n",
       "      <th>song</th>\n",
       "      <th>genre</th>\n",
       "      <th>lyrics</th>\n",
       "      <th>tokenized</th>\n",
       "      <th>length</th>\n",
       "      <th>mean_depth</th>\n",
       "      <th>NOUN</th>\n",
       "      <th>VERB</th>\n",
       "      <th>ADJ</th>\n",
       "      <th>PRON</th>\n",
       "      <th>ne_ratio</th>\n",
       "      <th>type_token</th>\n",
       "      <th>ngram_ratio</th>\n",
       "      <th>slang</th>\n",
       "      <th>pronouns_self_to_nonself</th>\n",
       "      <th>pronouns_first_to_second</th>\n",
       "    </tr>\n",
       "  </thead>\n",
       "  <tbody>\n",
       "    <tr>\n",
       "      <th>0</th>\n",
       "      <td>tr</td>\n",
       "      <td>chance the rappe</td>\n",
       "      <td>unk228</td>\n",
       "      <td>Rap</td>\n",
       "      <td>Another weekend full of blunts and brews\\nToo ...</td>\n",
       "      <td>Another weekend full of blunts and brews \\n To...</td>\n",
       "      <td>166</td>\n",
       "      <td>68.000000</td>\n",
       "      <td>22</td>\n",
       "      <td>5</td>\n",
       "      <td>6</td>\n",
       "      <td>10</td>\n",
       "      <td>0.060606</td>\n",
       "      <td>0.721088</td>\n",
       "      <td>0.892694</td>\n",
       "      <td>0.906977</td>\n",
       "      <td>2.250</td>\n",
       "      <td>4.000</td>\n",
       "    </tr>\n",
       "    <tr>\n",
       "      <th>1</th>\n",
       "      <td>tr</td>\n",
       "      <td>megan &amp; liz</td>\n",
       "      <td>love war</td>\n",
       "      <td>Country</td>\n",
       "      <td>i do n't believe in wizards or witches , but b...</td>\n",
       "      <td>i do n't believe in wizards or witches , but b...</td>\n",
       "      <td>210</td>\n",
       "      <td>13.200000</td>\n",
       "      <td>15</td>\n",
       "      <td>14</td>\n",
       "      <td>12</td>\n",
       "      <td>18</td>\n",
       "      <td>0.000000</td>\n",
       "      <td>0.488095</td>\n",
       "      <td>0.732535</td>\n",
       "      <td>0.960000</td>\n",
       "      <td>1.615</td>\n",
       "      <td>2.000</td>\n",
       "    </tr>\n",
       "    <tr>\n",
       "      <th>2</th>\n",
       "      <td>tr</td>\n",
       "      <td>jamiroquai</td>\n",
       "      <td>if i like it, i do it</td>\n",
       "      <td>Pop</td>\n",
       "      <td>if i like it i just do it , say that we have a...</td>\n",
       "      <td>if i like it i just do it , say that we have a...</td>\n",
       "      <td>332</td>\n",
       "      <td>29.750000</td>\n",
       "      <td>41</td>\n",
       "      <td>27</td>\n",
       "      <td>16</td>\n",
       "      <td>31</td>\n",
       "      <td>0.000000</td>\n",
       "      <td>0.485915</td>\n",
       "      <td>0.729093</td>\n",
       "      <td>0.960000</td>\n",
       "      <td>1.207</td>\n",
       "      <td>3.444</td>\n",
       "    </tr>\n",
       "    <tr>\n",
       "      <th>3</th>\n",
       "      <td>tr</td>\n",
       "      <td>drake</td>\n",
       "      <td>unk172</td>\n",
       "      <td>Rap</td>\n",
       "      <td>Done sayin' I'm done playin'\\nLast time was on...</td>\n",
       "      <td>Done sayin ' I 'm done playin ' \\n Last time w...</td>\n",
       "      <td>271</td>\n",
       "      <td>33.666667</td>\n",
       "      <td>24</td>\n",
       "      <td>12</td>\n",
       "      <td>10</td>\n",
       "      <td>34</td>\n",
       "      <td>0.050193</td>\n",
       "      <td>0.589958</td>\n",
       "      <td>0.826331</td>\n",
       "      <td>0.878049</td>\n",
       "      <td>1.353</td>\n",
       "      <td>11.500</td>\n",
       "    </tr>\n",
       "    <tr>\n",
       "      <th>4</th>\n",
       "      <td>tr</td>\n",
       "      <td>j cole</td>\n",
       "      <td>unk152</td>\n",
       "      <td>Rap</td>\n",
       "      <td>This next three bars is dedicated to the retar...</td>\n",
       "      <td>This next three bars is dedicated to the retar...</td>\n",
       "      <td>121</td>\n",
       "      <td>48.000000</td>\n",
       "      <td>5</td>\n",
       "      <td>4</td>\n",
       "      <td>9</td>\n",
       "      <td>16</td>\n",
       "      <td>0.053030</td>\n",
       "      <td>0.737288</td>\n",
       "      <td>0.903134</td>\n",
       "      <td>0.941176</td>\n",
       "      <td>2.200</td>\n",
       "      <td>11.000</td>\n",
       "    </tr>\n",
       "  </tbody>\n",
       "</table>\n",
       "</div>"
      ],
      "text/plain": [
       "  subset            author                   song    genre  \\\n",
       "0     tr  chance the rappe                 unk228      Rap   \n",
       "1     tr       megan & liz               love war  Country   \n",
       "2     tr        jamiroquai  if i like it, i do it      Pop   \n",
       "3     tr             drake                 unk172      Rap   \n",
       "4     tr            j cole                 unk152      Rap   \n",
       "\n",
       "                                              lyrics  \\\n",
       "0  Another weekend full of blunts and brews\\nToo ...   \n",
       "1  i do n't believe in wizards or witches , but b...   \n",
       "2  if i like it i just do it , say that we have a...   \n",
       "3  Done sayin' I'm done playin'\\nLast time was on...   \n",
       "4  This next three bars is dedicated to the retar...   \n",
       "\n",
       "                                           tokenized  length  mean_depth  \\\n",
       "0  Another weekend full of blunts and brews \\n To...     166   68.000000   \n",
       "1  i do n't believe in wizards or witches , but b...     210   13.200000   \n",
       "2  if i like it i just do it , say that we have a...     332   29.750000   \n",
       "3  Done sayin ' I 'm done playin ' \\n Last time w...     271   33.666667   \n",
       "4  This next three bars is dedicated to the retar...     121   48.000000   \n",
       "\n",
       "   NOUN  VERB  ADJ  PRON  ne_ratio  type_token  ngram_ratio     slang  \\\n",
       "0    22     5    6    10  0.060606    0.721088     0.892694  0.906977   \n",
       "1    15    14   12    18  0.000000    0.488095     0.732535  0.960000   \n",
       "2    41    27   16    31  0.000000    0.485915     0.729093  0.960000   \n",
       "3    24    12   10    34  0.050193    0.589958     0.826331  0.878049   \n",
       "4     5     4    9    16  0.053030    0.737288     0.903134  0.941176   \n",
       "\n",
       "   pronouns_self_to_nonself  pronouns_first_to_second  \n",
       "0                     2.250                     4.000  \n",
       "1                     1.615                     2.000  \n",
       "2                     1.207                     3.444  \n",
       "3                     1.353                    11.500  \n",
       "4                     2.200                    11.000  "
      ]
     },
     "execution_count": 99,
     "metadata": {
      "tags": []
     },
     "output_type": "execute_result"
    }
   ],
   "source": [
    "data"
   ]
  },
  {
   "cell_type": "markdown",
   "metadata": {
    "id": "YcsRd4V6inEX"
   },
   "source": [
    "## 9. Length"
   ]
  },
  {
   "cell_type": "code",
   "execution_count": null,
   "metadata": {
    "id": "mquL21YtinEX"
   },
   "outputs": [],
   "source": [
    "from statistics import mean\n",
    "tt = str.maketrans(dict.fromkeys(punctuation))"
   ]
  },
  {
   "cell_type": "code",
   "execution_count": null,
   "metadata": {
    "id": "lAtwWItRinEX"
   },
   "outputs": [],
   "source": [
    "length_in_words = []"
   ]
  },
  {
   "cell_type": "code",
   "execution_count": null,
   "metadata": {
    "colab": {
     "referenced_widgets": [
      "6d11fe40a25f4a7494a7f426ed7bd9ab"
     ]
    },
    "id": "hlE5k0U_inEY",
    "outputId": "61bd7fb5-8bad-4a5a-959e-85e09459d700"
   },
   "outputs": [
    {
     "data": {
      "application/vnd.jupyter.widget-view+json": {
       "model_id": "6d11fe40a25f4a7494a7f426ed7bd9ab",
       "version_major": 2,
       "version_minor": 0
      },
      "text/plain": [
       "HBox(children=(FloatProgress(value=0.0, max=20582.0), HTML(value='')))"
      ]
     },
     "metadata": {
      "tags": []
     },
     "output_type": "display_data"
    },
    {
     "name": "stdout",
     "output_type": "stream",
     "text": [
      "\n"
     ]
    }
   ],
   "source": [
    "for text in tqdm(data['tokenized']):\n",
    "    text_without_punc = text.translate(tt)\n",
    "    best_text = text_without_punc.replace(' \\n', '').split(' ')\n",
    "    for thing in best_text:\n",
    "        if thing == '':\n",
    "            best_text.remove(thing)\n",
    "    word_count = len(best_text)\n",
    "    length_in_words.append(word_count)"
   ]
  },
  {
   "cell_type": "code",
   "execution_count": null,
   "metadata": {
    "id": "2sfQAQPtinEY"
   },
   "outputs": [],
   "source": [
    "data['length_in_words'] = length_in_words"
   ]
  },
  {
   "cell_type": "code",
   "execution_count": null,
   "metadata": {
    "id": "zlqaX6YhinEZ",
    "outputId": "6d2ecf00-82c6-4780-d8c7-679dab67bbe3"
   },
   "outputs": [
    {
     "data": {
      "text/html": [
       "<div>\n",
       "<style scoped>\n",
       "    .dataframe tbody tr th:only-of-type {\n",
       "        vertical-align: middle;\n",
       "    }\n",
       "\n",
       "    .dataframe tbody tr th {\n",
       "        vertical-align: top;\n",
       "    }\n",
       "\n",
       "    .dataframe thead th {\n",
       "        text-align: right;\n",
       "    }\n",
       "</style>\n",
       "<table border=\"1\" class=\"dataframe\">\n",
       "  <thead>\n",
       "    <tr style=\"text-align: right;\">\n",
       "      <th></th>\n",
       "      <th>subset</th>\n",
       "      <th>author</th>\n",
       "      <th>song</th>\n",
       "      <th>genre</th>\n",
       "      <th>lyrics</th>\n",
       "      <th>tokenized</th>\n",
       "      <th>length</th>\n",
       "      <th>mean_depth</th>\n",
       "      <th>NOUN</th>\n",
       "      <th>VERB</th>\n",
       "      <th>ADJ</th>\n",
       "      <th>PRON</th>\n",
       "      <th>ne_ratio</th>\n",
       "      <th>type_token</th>\n",
       "      <th>ngram_ratio</th>\n",
       "      <th>slang</th>\n",
       "      <th>pronouns_self_to_nonself</th>\n",
       "      <th>pronouns_first_to_second</th>\n",
       "      <th>length_in_words</th>\n",
       "    </tr>\n",
       "  </thead>\n",
       "  <tbody>\n",
       "    <tr>\n",
       "      <th>0</th>\n",
       "      <td>tr</td>\n",
       "      <td>chance the rappe</td>\n",
       "      <td>unk228</td>\n",
       "      <td>Rap</td>\n",
       "      <td>Another weekend full of blunts and brews\\nToo ...</td>\n",
       "      <td>Another weekend full of blunts and brews \\n To...</td>\n",
       "      <td>166</td>\n",
       "      <td>68.000000</td>\n",
       "      <td>22</td>\n",
       "      <td>5</td>\n",
       "      <td>6</td>\n",
       "      <td>10</td>\n",
       "      <td>0.060606</td>\n",
       "      <td>0.721088</td>\n",
       "      <td>0.892694</td>\n",
       "      <td>0.906977</td>\n",
       "      <td>2.250</td>\n",
       "      <td>4.000</td>\n",
       "      <td>147</td>\n",
       "    </tr>\n",
       "    <tr>\n",
       "      <th>1</th>\n",
       "      <td>tr</td>\n",
       "      <td>megan &amp; liz</td>\n",
       "      <td>love war</td>\n",
       "      <td>Country</td>\n",
       "      <td>i do n't believe in wizards or witches , but b...</td>\n",
       "      <td>i do n't believe in wizards or witches , but b...</td>\n",
       "      <td>210</td>\n",
       "      <td>13.200000</td>\n",
       "      <td>15</td>\n",
       "      <td>14</td>\n",
       "      <td>12</td>\n",
       "      <td>18</td>\n",
       "      <td>0.000000</td>\n",
       "      <td>0.488095</td>\n",
       "      <td>0.732535</td>\n",
       "      <td>0.960000</td>\n",
       "      <td>1.615</td>\n",
       "      <td>2.000</td>\n",
       "      <td>171</td>\n",
       "    </tr>\n",
       "    <tr>\n",
       "      <th>2</th>\n",
       "      <td>tr</td>\n",
       "      <td>jamiroquai</td>\n",
       "      <td>if i like it, i do it</td>\n",
       "      <td>Pop</td>\n",
       "      <td>if i like it i just do it , say that we have a...</td>\n",
       "      <td>if i like it i just do it , say that we have a...</td>\n",
       "      <td>332</td>\n",
       "      <td>29.750000</td>\n",
       "      <td>41</td>\n",
       "      <td>27</td>\n",
       "      <td>16</td>\n",
       "      <td>31</td>\n",
       "      <td>0.000000</td>\n",
       "      <td>0.485915</td>\n",
       "      <td>0.729093</td>\n",
       "      <td>0.960000</td>\n",
       "      <td>1.207</td>\n",
       "      <td>3.444</td>\n",
       "      <td>285</td>\n",
       "    </tr>\n",
       "    <tr>\n",
       "      <th>3</th>\n",
       "      <td>tr</td>\n",
       "      <td>drake</td>\n",
       "      <td>unk172</td>\n",
       "      <td>Rap</td>\n",
       "      <td>Done sayin' I'm done playin'\\nLast time was on...</td>\n",
       "      <td>Done sayin ' I 'm done playin ' \\n Last time w...</td>\n",
       "      <td>271</td>\n",
       "      <td>33.666667</td>\n",
       "      <td>24</td>\n",
       "      <td>12</td>\n",
       "      <td>10</td>\n",
       "      <td>34</td>\n",
       "      <td>0.050193</td>\n",
       "      <td>0.589958</td>\n",
       "      <td>0.826331</td>\n",
       "      <td>0.878049</td>\n",
       "      <td>1.353</td>\n",
       "      <td>11.500</td>\n",
       "      <td>243</td>\n",
       "    </tr>\n",
       "    <tr>\n",
       "      <th>4</th>\n",
       "      <td>tr</td>\n",
       "      <td>j cole</td>\n",
       "      <td>unk152</td>\n",
       "      <td>Rap</td>\n",
       "      <td>This next three bars is dedicated to the retar...</td>\n",
       "      <td>This next three bars is dedicated to the retar...</td>\n",
       "      <td>121</td>\n",
       "      <td>48.000000</td>\n",
       "      <td>5</td>\n",
       "      <td>4</td>\n",
       "      <td>9</td>\n",
       "      <td>16</td>\n",
       "      <td>0.053030</td>\n",
       "      <td>0.737288</td>\n",
       "      <td>0.903134</td>\n",
       "      <td>0.941176</td>\n",
       "      <td>2.200</td>\n",
       "      <td>11.000</td>\n",
       "      <td>118</td>\n",
       "    </tr>\n",
       "  </tbody>\n",
       "</table>\n",
       "</div>"
      ],
      "text/plain": [
       "  subset            author                   song    genre  \\\n",
       "0     tr  chance the rappe                 unk228      Rap   \n",
       "1     tr       megan & liz               love war  Country   \n",
       "2     tr        jamiroquai  if i like it, i do it      Pop   \n",
       "3     tr             drake                 unk172      Rap   \n",
       "4     tr            j cole                 unk152      Rap   \n",
       "\n",
       "                                              lyrics  \\\n",
       "0  Another weekend full of blunts and brews\\nToo ...   \n",
       "1  i do n't believe in wizards or witches , but b...   \n",
       "2  if i like it i just do it , say that we have a...   \n",
       "3  Done sayin' I'm done playin'\\nLast time was on...   \n",
       "4  This next three bars is dedicated to the retar...   \n",
       "\n",
       "                                           tokenized  length  mean_depth  \\\n",
       "0  Another weekend full of blunts and brews \\n To...     166   68.000000   \n",
       "1  i do n't believe in wizards or witches , but b...     210   13.200000   \n",
       "2  if i like it i just do it , say that we have a...     332   29.750000   \n",
       "3  Done sayin ' I 'm done playin ' \\n Last time w...     271   33.666667   \n",
       "4  This next three bars is dedicated to the retar...     121   48.000000   \n",
       "\n",
       "   NOUN  VERB  ADJ  PRON  ne_ratio  type_token  ngram_ratio     slang  \\\n",
       "0    22     5    6    10  0.060606    0.721088     0.892694  0.906977   \n",
       "1    15    14   12    18  0.000000    0.488095     0.732535  0.960000   \n",
       "2    41    27   16    31  0.000000    0.485915     0.729093  0.960000   \n",
       "3    24    12   10    34  0.050193    0.589958     0.826331  0.878049   \n",
       "4     5     4    9    16  0.053030    0.737288     0.903134  0.941176   \n",
       "\n",
       "   pronouns_self_to_nonself  pronouns_first_to_second  length_in_words  \n",
       "0                     2.250                     4.000              147  \n",
       "1                     1.615                     2.000              171  \n",
       "2                     1.207                     3.444              285  \n",
       "3                     1.353                    11.500              243  \n",
       "4                     2.200                    11.000              118  "
      ]
     },
     "execution_count": 108,
     "metadata": {
      "tags": []
     },
     "output_type": "execute_result"
    }
   ],
   "source": [
    "data.head()"
   ]
  },
  {
   "cell_type": "markdown",
   "metadata": {
    "id": "MDFTHs0DinEZ"
   },
   "source": [
    "## 10. Mean line length"
   ]
  },
  {
   "cell_type": "code",
   "execution_count": null,
   "metadata": {
    "id": "PsVDZz7PinEb"
   },
   "outputs": [],
   "source": [
    "string_mean_length = []"
   ]
  },
  {
   "cell_type": "code",
   "execution_count": null,
   "metadata": {
    "colab": {
     "referenced_widgets": [
      "703156ff449e4514a34c77600e70bb67"
     ]
    },
    "id": "GpgD_-FGinEc",
    "outputId": "0f1f4d2a-c755-445c-806f-e2fb8e09453a"
   },
   "outputs": [
    {
     "data": {
      "application/vnd.jupyter.widget-view+json": {
       "model_id": "703156ff449e4514a34c77600e70bb67",
       "version_major": 2,
       "version_minor": 0
      },
      "text/plain": [
       "HBox(children=(FloatProgress(value=0.0, max=20582.0), HTML(value='')))"
      ]
     },
     "metadata": {
      "tags": []
     },
     "output_type": "display_data"
    },
    {
     "name": "stdout",
     "output_type": "stream",
     "text": [
      "\n"
     ]
    }
   ],
   "source": [
    "for text in tqdm(data['tokenized']):\n",
    "    string_length = []\n",
    "    text.replace(' \\' ', '')\n",
    "    if ' \\n' in text:\n",
    "        splited_text = text.split(' \\n ')\n",
    "    else:\n",
    "        splited_text = text.split(' , ')\n",
    "    for string in splited_text:\n",
    "        string_without_punc = string.translate(tt)\n",
    "        string_without_punc.replace('\\' ', '')\n",
    "        splited_string = string_without_punc.split(' ')\n",
    "    for thing in splited_string:\n",
    "        if thing == '':\n",
    "            splited_string.remove(thing)\n",
    "        word_count = len(splited_string)\n",
    "        string_length.append(word_count)\n",
    "    string_mean_length.append(round(mean(string_length), 3))"
   ]
  },
  {
   "cell_type": "code",
   "execution_count": null,
   "metadata": {
    "id": "uNmMQQg1inEj"
   },
   "outputs": [],
   "source": [
    "data['string_mean_length'] = string_mean_length"
   ]
  },
  {
   "cell_type": "code",
   "execution_count": null,
   "metadata": {
    "id": "D3_85ov6inEo",
    "outputId": "8b8ef9a6-26cd-44ad-c5dc-713685b25adc"
   },
   "outputs": [
    {
     "data": {
      "text/html": [
       "<div>\n",
       "<style scoped>\n",
       "    .dataframe tbody tr th:only-of-type {\n",
       "        vertical-align: middle;\n",
       "    }\n",
       "\n",
       "    .dataframe tbody tr th {\n",
       "        vertical-align: top;\n",
       "    }\n",
       "\n",
       "    .dataframe thead th {\n",
       "        text-align: right;\n",
       "    }\n",
       "</style>\n",
       "<table border=\"1\" class=\"dataframe\">\n",
       "  <thead>\n",
       "    <tr style=\"text-align: right;\">\n",
       "      <th></th>\n",
       "      <th>subset</th>\n",
       "      <th>author</th>\n",
       "      <th>song</th>\n",
       "      <th>genre</th>\n",
       "      <th>lyrics</th>\n",
       "      <th>tokenized</th>\n",
       "      <th>length</th>\n",
       "      <th>mean_depth</th>\n",
       "      <th>NOUN</th>\n",
       "      <th>VERB</th>\n",
       "      <th>ADJ</th>\n",
       "      <th>PRON</th>\n",
       "      <th>ne_ratio</th>\n",
       "      <th>type_token</th>\n",
       "      <th>ngram_ratio</th>\n",
       "      <th>slang</th>\n",
       "      <th>pronouns_self_to_nonself</th>\n",
       "      <th>pronouns_first_to_second</th>\n",
       "      <th>length_in_words</th>\n",
       "      <th>string_mean_length</th>\n",
       "    </tr>\n",
       "  </thead>\n",
       "  <tbody>\n",
       "    <tr>\n",
       "      <th>0</th>\n",
       "      <td>tr</td>\n",
       "      <td>chance the rappe</td>\n",
       "      <td>unk228</td>\n",
       "      <td>Rap</td>\n",
       "      <td>Another weekend full of blunts and brews\\nToo ...</td>\n",
       "      <td>Another weekend full of blunts and brews \\n To...</td>\n",
       "      <td>166</td>\n",
       "      <td>68.000000</td>\n",
       "      <td>22</td>\n",
       "      <td>5</td>\n",
       "      <td>6</td>\n",
       "      <td>10</td>\n",
       "      <td>0.060606</td>\n",
       "      <td>0.721088</td>\n",
       "      <td>0.892694</td>\n",
       "      <td>0.906977</td>\n",
       "      <td>2.250</td>\n",
       "      <td>4.000</td>\n",
       "      <td>147</td>\n",
       "      <td>9.778</td>\n",
       "    </tr>\n",
       "    <tr>\n",
       "      <th>1</th>\n",
       "      <td>tr</td>\n",
       "      <td>megan &amp; liz</td>\n",
       "      <td>love war</td>\n",
       "      <td>Country</td>\n",
       "      <td>i do n't believe in wizards or witches , but b...</td>\n",
       "      <td>i do n't believe in wizards or witches , but b...</td>\n",
       "      <td>210</td>\n",
       "      <td>13.200000</td>\n",
       "      <td>15</td>\n",
       "      <td>14</td>\n",
       "      <td>12</td>\n",
       "      <td>18</td>\n",
       "      <td>0.000000</td>\n",
       "      <td>0.488095</td>\n",
       "      <td>0.732535</td>\n",
       "      <td>0.960000</td>\n",
       "      <td>1.615</td>\n",
       "      <td>2.000</td>\n",
       "      <td>171</td>\n",
       "      <td>10.300</td>\n",
       "    </tr>\n",
       "    <tr>\n",
       "      <th>2</th>\n",
       "      <td>tr</td>\n",
       "      <td>jamiroquai</td>\n",
       "      <td>if i like it, i do it</td>\n",
       "      <td>Pop</td>\n",
       "      <td>if i like it i just do it , say that we have a...</td>\n",
       "      <td>if i like it i just do it , say that we have a...</td>\n",
       "      <td>332</td>\n",
       "      <td>29.750000</td>\n",
       "      <td>41</td>\n",
       "      <td>27</td>\n",
       "      <td>16</td>\n",
       "      <td>31</td>\n",
       "      <td>0.000000</td>\n",
       "      <td>0.485915</td>\n",
       "      <td>0.729093</td>\n",
       "      <td>0.960000</td>\n",
       "      <td>1.207</td>\n",
       "      <td>3.444</td>\n",
       "      <td>285</td>\n",
       "      <td>13.385</td>\n",
       "    </tr>\n",
       "    <tr>\n",
       "      <th>3</th>\n",
       "      <td>tr</td>\n",
       "      <td>drake</td>\n",
       "      <td>unk172</td>\n",
       "      <td>Rap</td>\n",
       "      <td>Done sayin' I'm done playin'\\nLast time was on...</td>\n",
       "      <td>Done sayin ' I 'm done playin ' \\n Last time w...</td>\n",
       "      <td>271</td>\n",
       "      <td>33.666667</td>\n",
       "      <td>24</td>\n",
       "      <td>12</td>\n",
       "      <td>10</td>\n",
       "      <td>34</td>\n",
       "      <td>0.050193</td>\n",
       "      <td>0.589958</td>\n",
       "      <td>0.826331</td>\n",
       "      <td>0.878049</td>\n",
       "      <td>1.353</td>\n",
       "      <td>11.500</td>\n",
       "      <td>243</td>\n",
       "      <td>18.556</td>\n",
       "    </tr>\n",
       "    <tr>\n",
       "      <th>4</th>\n",
       "      <td>tr</td>\n",
       "      <td>j cole</td>\n",
       "      <td>unk152</td>\n",
       "      <td>Rap</td>\n",
       "      <td>This next three bars is dedicated to the retar...</td>\n",
       "      <td>This next three bars is dedicated to the retar...</td>\n",
       "      <td>121</td>\n",
       "      <td>48.000000</td>\n",
       "      <td>5</td>\n",
       "      <td>4</td>\n",
       "      <td>9</td>\n",
       "      <td>16</td>\n",
       "      <td>0.053030</td>\n",
       "      <td>0.737288</td>\n",
       "      <td>0.903134</td>\n",
       "      <td>0.941176</td>\n",
       "      <td>2.200</td>\n",
       "      <td>11.000</td>\n",
       "      <td>118</td>\n",
       "      <td>12.917</td>\n",
       "    </tr>\n",
       "  </tbody>\n",
       "</table>\n",
       "</div>"
      ],
      "text/plain": [
       "  subset            author                   song    genre  \\\n",
       "0     tr  chance the rappe                 unk228      Rap   \n",
       "1     tr       megan & liz               love war  Country   \n",
       "2     tr        jamiroquai  if i like it, i do it      Pop   \n",
       "3     tr             drake                 unk172      Rap   \n",
       "4     tr            j cole                 unk152      Rap   \n",
       "\n",
       "                                              lyrics  \\\n",
       "0  Another weekend full of blunts and brews\\nToo ...   \n",
       "1  i do n't believe in wizards or witches , but b...   \n",
       "2  if i like it i just do it , say that we have a...   \n",
       "3  Done sayin' I'm done playin'\\nLast time was on...   \n",
       "4  This next three bars is dedicated to the retar...   \n",
       "\n",
       "                                           tokenized  length  mean_depth  \\\n",
       "0  Another weekend full of blunts and brews \\n To...     166   68.000000   \n",
       "1  i do n't believe in wizards or witches , but b...     210   13.200000   \n",
       "2  if i like it i just do it , say that we have a...     332   29.750000   \n",
       "3  Done sayin ' I 'm done playin ' \\n Last time w...     271   33.666667   \n",
       "4  This next three bars is dedicated to the retar...     121   48.000000   \n",
       "\n",
       "   NOUN  VERB  ADJ  PRON  ne_ratio  type_token  ngram_ratio     slang  \\\n",
       "0    22     5    6    10  0.060606    0.721088     0.892694  0.906977   \n",
       "1    15    14   12    18  0.000000    0.488095     0.732535  0.960000   \n",
       "2    41    27   16    31  0.000000    0.485915     0.729093  0.960000   \n",
       "3    24    12   10    34  0.050193    0.589958     0.826331  0.878049   \n",
       "4     5     4    9    16  0.053030    0.737288     0.903134  0.941176   \n",
       "\n",
       "   pronouns_self_to_nonself  pronouns_first_to_second  length_in_words  \\\n",
       "0                     2.250                     4.000              147   \n",
       "1                     1.615                     2.000              171   \n",
       "2                     1.207                     3.444              285   \n",
       "3                     1.353                    11.500              243   \n",
       "4                     2.200                    11.000              118   \n",
       "\n",
       "   string_mean_length  \n",
       "0               9.778  \n",
       "1              10.300  \n",
       "2              13.385  \n",
       "3              18.556  \n",
       "4              12.917  "
      ]
     },
     "execution_count": 113,
     "metadata": {
      "tags": []
     },
     "output_type": "execute_result"
    }
   ],
   "source": [
    "data.head()"
   ]
  },
  {
   "cell_type": "markdown",
   "metadata": {
    "id": "aPcshL8KinEt"
   },
   "source": [
    "## 11. Swear Words"
   ]
  },
  {
   "cell_type": "code",
   "execution_count": 5,
   "metadata": {
    "colab": {
     "base_uri": "https://localhost:8080/"
    },
    "id": "2Ib7tB8OinEy",
    "outputId": "552a6bfc-f4c1-41bc-bc20-11bd5ba84b86"
   },
   "outputs": [
    {
     "name": "stdout",
     "output_type": "stream",
     "text": [
      "Collecting better_profanity\n",
      "\u001b[?25l  Downloading https://files.pythonhosted.org/packages/f3/dd/0b074d89e903cc771721cde2c4bf3d8c9d114b5bd791af5c62bcf5fb9459/better_profanity-0.7.0-py3-none-any.whl (46kB)\n",
      "\r",
      "\u001b[K     |███████                         | 10kB 15.1MB/s eta 0:00:01\r",
      "\u001b[K     |██████████████▏                 | 20kB 10.5MB/s eta 0:00:01\r",
      "\u001b[K     |█████████████████████▎          | 30kB 7.7MB/s eta 0:00:01\r",
      "\u001b[K     |████████████████████████████▍   | 40kB 7.2MB/s eta 0:00:01\r",
      "\u001b[K     |████████████████████████████████| 51kB 2.4MB/s \n",
      "\u001b[?25hInstalling collected packages: better-profanity\n",
      "Successfully installed better-profanity-0.7.0\n"
     ]
    }
   ],
   "source": [
    "! pip install better_profanity"
   ]
  },
  {
   "cell_type": "code",
   "execution_count": 6,
   "metadata": {
    "id": "kQEB-Rw2inE0"
   },
   "outputs": [],
   "source": [
    "from better_profanity import profanity"
   ]
  },
  {
   "cell_type": "code",
   "execution_count": 9,
   "metadata": {
    "colab": {
     "base_uri": "https://localhost:8080/",
     "height": 66,
     "referenced_widgets": [
      "5207ba0178714fd9ae548de5fcba0866",
      "aeb1dc99b77049488fc4df45d217bcf6",
      "2b0e03fac1184b9c9ca372996633e256",
      "7cb9eeee737e46789ab8bbbc0904634b",
      "cb07b620c7bf42f9b2e24ae94730de62",
      "15a5b0b7ae3a4aeea5833046b4fa62b5",
      "151a17cb81da4cbba6b19c11ee9940c5",
      "241af75de75e4e69a1a9f5fd28fd7be6"
     ]
    },
    "id": "2hwXcLckinE3",
    "outputId": "576a4021-f5c4-4e8c-ba69-038a7ba1ccbd"
   },
   "outputs": [
    {
     "data": {
      "application/vnd.jupyter.widget-view+json": {
       "model_id": "5207ba0178714fd9ae548de5fcba0866",
       "version_major": 2,
       "version_minor": 0
      },
      "text/plain": [
       "HBox(children=(FloatProgress(value=0.0, max=20582.0), HTML(value='')))"
      ]
     },
     "metadata": {
      "tags": []
     },
     "output_type": "display_data"
    },
    {
     "name": "stdout",
     "output_type": "stream",
     "text": [
      "\n"
     ]
    }
   ],
   "source": [
    "swears = []\n",
    "for text in tqdm(data['lyrics']):\n",
    "    swears.append(profanity.contains_profanity(text))\n",
    "data['swear_words'] = swears"
   ]
  },
  {
   "cell_type": "code",
   "execution_count": 17,
   "metadata": {
    "colab": {
     "base_uri": "https://localhost:8080/",
     "height": 573
    },
    "id": "fBSO1r1ybLkm",
    "outputId": "35f0ccbd-3cb5-4606-87b5-cb586bbbca94"
   },
   "outputs": [
    {
     "data": {
      "text/html": [
       "<div>\n",
       "<style scoped>\n",
       "    .dataframe tbody tr th:only-of-type {\n",
       "        vertical-align: middle;\n",
       "    }\n",
       "\n",
       "    .dataframe tbody tr th {\n",
       "        vertical-align: top;\n",
       "    }\n",
       "\n",
       "    .dataframe thead th {\n",
       "        text-align: right;\n",
       "    }\n",
       "</style>\n",
       "<table border=\"1\" class=\"dataframe\">\n",
       "  <thead>\n",
       "    <tr style=\"text-align: right;\">\n",
       "      <th></th>\n",
       "      <th>subset</th>\n",
       "      <th>author</th>\n",
       "      <th>song</th>\n",
       "      <th>genre</th>\n",
       "      <th>lyrics</th>\n",
       "      <th>tokenized</th>\n",
       "      <th>length</th>\n",
       "      <th>mean_depth</th>\n",
       "      <th>NOUN</th>\n",
       "      <th>VERB</th>\n",
       "      <th>ADJ</th>\n",
       "      <th>PRON</th>\n",
       "      <th>ne_ratio</th>\n",
       "      <th>type_token</th>\n",
       "      <th>ngram_ratio</th>\n",
       "      <th>slang</th>\n",
       "      <th>pronouns_self_to_nonself</th>\n",
       "      <th>pronouns_first_to_second</th>\n",
       "      <th>length_in_words</th>\n",
       "      <th>string_mean_length</th>\n",
       "      <th>swear_words</th>\n",
       "    </tr>\n",
       "  </thead>\n",
       "  <tbody>\n",
       "    <tr>\n",
       "      <th>0</th>\n",
       "      <td>tr</td>\n",
       "      <td>chance the rappe</td>\n",
       "      <td>unk228</td>\n",
       "      <td>Rap</td>\n",
       "      <td>Another weekend full of blunts and brews\\nToo ...</td>\n",
       "      <td>Another weekend full of blunts and brews \\n To...</td>\n",
       "      <td>166</td>\n",
       "      <td>68.000000</td>\n",
       "      <td>22</td>\n",
       "      <td>5</td>\n",
       "      <td>6</td>\n",
       "      <td>10</td>\n",
       "      <td>0.060606</td>\n",
       "      <td>0.721088</td>\n",
       "      <td>0.892694</td>\n",
       "      <td>0.906977</td>\n",
       "      <td>2.250</td>\n",
       "      <td>4.000</td>\n",
       "      <td>147</td>\n",
       "      <td>7.737</td>\n",
       "      <td>True</td>\n",
       "    </tr>\n",
       "    <tr>\n",
       "      <th>1</th>\n",
       "      <td>tr</td>\n",
       "      <td>megan &amp; liz</td>\n",
       "      <td>love war</td>\n",
       "      <td>Country</td>\n",
       "      <td>i do n't believe in wizards or witches , but b...</td>\n",
       "      <td>i do n't believe in wizards or witches , but b...</td>\n",
       "      <td>210</td>\n",
       "      <td>13.200000</td>\n",
       "      <td>15</td>\n",
       "      <td>14</td>\n",
       "      <td>12</td>\n",
       "      <td>18</td>\n",
       "      <td>0.000000</td>\n",
       "      <td>0.488095</td>\n",
       "      <td>0.732535</td>\n",
       "      <td>0.960000</td>\n",
       "      <td>1.615</td>\n",
       "      <td>2.000</td>\n",
       "      <td>171</td>\n",
       "      <td>5.250</td>\n",
       "      <td>True</td>\n",
       "    </tr>\n",
       "    <tr>\n",
       "      <th>2</th>\n",
       "      <td>tr</td>\n",
       "      <td>jamiroquai</td>\n",
       "      <td>if i like it, i do it</td>\n",
       "      <td>Pop</td>\n",
       "      <td>if i like it i just do it , say that we have a...</td>\n",
       "      <td>if i like it i just do it , say that we have a...</td>\n",
       "      <td>332</td>\n",
       "      <td>29.750000</td>\n",
       "      <td>41</td>\n",
       "      <td>27</td>\n",
       "      <td>16</td>\n",
       "      <td>31</td>\n",
       "      <td>0.000000</td>\n",
       "      <td>0.485915</td>\n",
       "      <td>0.729093</td>\n",
       "      <td>0.960000</td>\n",
       "      <td>1.207</td>\n",
       "      <td>3.444</td>\n",
       "      <td>285</td>\n",
       "      <td>8.353</td>\n",
       "      <td>False</td>\n",
       "    </tr>\n",
       "    <tr>\n",
       "      <th>3</th>\n",
       "      <td>tr</td>\n",
       "      <td>drake</td>\n",
       "      <td>unk172</td>\n",
       "      <td>Rap</td>\n",
       "      <td>Done sayin' I'm done playin'\\nLast time was on...</td>\n",
       "      <td>Done sayin ' I 'm done playin ' \\n Last time w...</td>\n",
       "      <td>271</td>\n",
       "      <td>33.666667</td>\n",
       "      <td>24</td>\n",
       "      <td>12</td>\n",
       "      <td>10</td>\n",
       "      <td>34</td>\n",
       "      <td>0.050193</td>\n",
       "      <td>0.589958</td>\n",
       "      <td>0.826331</td>\n",
       "      <td>0.878049</td>\n",
       "      <td>1.353</td>\n",
       "      <td>11.500</td>\n",
       "      <td>243</td>\n",
       "      <td>12.150</td>\n",
       "      <td>True</td>\n",
       "    </tr>\n",
       "    <tr>\n",
       "      <th>4</th>\n",
       "      <td>tr</td>\n",
       "      <td>j cole</td>\n",
       "      <td>unk152</td>\n",
       "      <td>Rap</td>\n",
       "      <td>This next three bars is dedicated to the retar...</td>\n",
       "      <td>This next three bars is dedicated to the retar...</td>\n",
       "      <td>121</td>\n",
       "      <td>48.000000</td>\n",
       "      <td>5</td>\n",
       "      <td>4</td>\n",
       "      <td>9</td>\n",
       "      <td>16</td>\n",
       "      <td>0.053030</td>\n",
       "      <td>0.737288</td>\n",
       "      <td>0.903134</td>\n",
       "      <td>0.941176</td>\n",
       "      <td>2.200</td>\n",
       "      <td>11.000</td>\n",
       "      <td>118</td>\n",
       "      <td>7.867</td>\n",
       "      <td>True</td>\n",
       "    </tr>\n",
       "  </tbody>\n",
       "</table>\n",
       "</div>"
      ],
      "text/plain": [
       "  subset            author  ... string_mean_length swear_words\n",
       "0     tr  chance the rappe  ...              7.737        True\n",
       "1     tr       megan & liz  ...              5.250        True\n",
       "2     tr        jamiroquai  ...              8.353       False\n",
       "3     tr             drake  ...             12.150        True\n",
       "4     tr            j cole  ...              7.867        True\n",
       "\n",
       "[5 rows x 21 columns]"
      ]
     },
     "execution_count": 17,
     "metadata": {
      "tags": []
     },
     "output_type": "execute_result"
    }
   ],
   "source": [
    "data.head()"
   ]
  },
  {
   "cell_type": "markdown",
   "metadata": {
    "id": "lN4Dtm_ZEPXQ"
   },
   "source": [
    "### POS Tags update\n",
    "(convert absolute values to percentages)"
   ]
  },
  {
   "cell_type": "code",
   "execution_count": 18,
   "metadata": {
    "id": "EhSiC6VAuQCq"
   },
   "outputs": [],
   "source": [
    "data['NOUN'] = data['NOUN'] / data['length_in_words']\n",
    "data['VERB'] = data['VERB'] / data['length_in_words']\n",
    "data ['ADJ'] = data['ADJ'] / data['length_in_words']\n",
    "data['PRON'] = data['PRON'] / data['length_in_words']"
   ]
  },
  {
   "cell_type": "code",
   "execution_count": 19,
   "metadata": {
    "colab": {
     "base_uri": "https://localhost:8080/",
     "height": 573
    },
    "id": "UAojXspUEnLr",
    "outputId": "f18c941e-cca7-48f8-c52d-a97330cacc3a"
   },
   "outputs": [
    {
     "data": {
      "text/html": [
       "<div>\n",
       "<style scoped>\n",
       "    .dataframe tbody tr th:only-of-type {\n",
       "        vertical-align: middle;\n",
       "    }\n",
       "\n",
       "    .dataframe tbody tr th {\n",
       "        vertical-align: top;\n",
       "    }\n",
       "\n",
       "    .dataframe thead th {\n",
       "        text-align: right;\n",
       "    }\n",
       "</style>\n",
       "<table border=\"1\" class=\"dataframe\">\n",
       "  <thead>\n",
       "    <tr style=\"text-align: right;\">\n",
       "      <th></th>\n",
       "      <th>subset</th>\n",
       "      <th>author</th>\n",
       "      <th>song</th>\n",
       "      <th>genre</th>\n",
       "      <th>lyrics</th>\n",
       "      <th>tokenized</th>\n",
       "      <th>length</th>\n",
       "      <th>mean_depth</th>\n",
       "      <th>NOUN</th>\n",
       "      <th>VERB</th>\n",
       "      <th>ADJ</th>\n",
       "      <th>PRON</th>\n",
       "      <th>ne_ratio</th>\n",
       "      <th>type_token</th>\n",
       "      <th>ngram_ratio</th>\n",
       "      <th>slang</th>\n",
       "      <th>pronouns_self_to_nonself</th>\n",
       "      <th>pronouns_first_to_second</th>\n",
       "      <th>length_in_words</th>\n",
       "      <th>string_mean_length</th>\n",
       "      <th>swear_words</th>\n",
       "    </tr>\n",
       "  </thead>\n",
       "  <tbody>\n",
       "    <tr>\n",
       "      <th>0</th>\n",
       "      <td>tr</td>\n",
       "      <td>chance the rappe</td>\n",
       "      <td>unk228</td>\n",
       "      <td>Rap</td>\n",
       "      <td>Another weekend full of blunts and brews\\nToo ...</td>\n",
       "      <td>Another weekend full of blunts and brews \\n To...</td>\n",
       "      <td>166</td>\n",
       "      <td>68.000000</td>\n",
       "      <td>0.149660</td>\n",
       "      <td>0.034014</td>\n",
       "      <td>0.040816</td>\n",
       "      <td>0.068027</td>\n",
       "      <td>0.060606</td>\n",
       "      <td>0.721088</td>\n",
       "      <td>0.892694</td>\n",
       "      <td>0.906977</td>\n",
       "      <td>2.250</td>\n",
       "      <td>4.000</td>\n",
       "      <td>147</td>\n",
       "      <td>7.737</td>\n",
       "      <td>True</td>\n",
       "    </tr>\n",
       "    <tr>\n",
       "      <th>1</th>\n",
       "      <td>tr</td>\n",
       "      <td>megan &amp; liz</td>\n",
       "      <td>love war</td>\n",
       "      <td>Country</td>\n",
       "      <td>i do n't believe in wizards or witches , but b...</td>\n",
       "      <td>i do n't believe in wizards or witches , but b...</td>\n",
       "      <td>210</td>\n",
       "      <td>13.200000</td>\n",
       "      <td>0.087719</td>\n",
       "      <td>0.081871</td>\n",
       "      <td>0.070175</td>\n",
       "      <td>0.105263</td>\n",
       "      <td>0.000000</td>\n",
       "      <td>0.488095</td>\n",
       "      <td>0.732535</td>\n",
       "      <td>0.960000</td>\n",
       "      <td>1.615</td>\n",
       "      <td>2.000</td>\n",
       "      <td>171</td>\n",
       "      <td>5.250</td>\n",
       "      <td>True</td>\n",
       "    </tr>\n",
       "    <tr>\n",
       "      <th>2</th>\n",
       "      <td>tr</td>\n",
       "      <td>jamiroquai</td>\n",
       "      <td>if i like it, i do it</td>\n",
       "      <td>Pop</td>\n",
       "      <td>if i like it i just do it , say that we have a...</td>\n",
       "      <td>if i like it i just do it , say that we have a...</td>\n",
       "      <td>332</td>\n",
       "      <td>29.750000</td>\n",
       "      <td>0.143860</td>\n",
       "      <td>0.094737</td>\n",
       "      <td>0.056140</td>\n",
       "      <td>0.108772</td>\n",
       "      <td>0.000000</td>\n",
       "      <td>0.485915</td>\n",
       "      <td>0.729093</td>\n",
       "      <td>0.960000</td>\n",
       "      <td>1.207</td>\n",
       "      <td>3.444</td>\n",
       "      <td>285</td>\n",
       "      <td>8.353</td>\n",
       "      <td>False</td>\n",
       "    </tr>\n",
       "    <tr>\n",
       "      <th>3</th>\n",
       "      <td>tr</td>\n",
       "      <td>drake</td>\n",
       "      <td>unk172</td>\n",
       "      <td>Rap</td>\n",
       "      <td>Done sayin' I'm done playin'\\nLast time was on...</td>\n",
       "      <td>Done sayin ' I 'm done playin ' \\n Last time w...</td>\n",
       "      <td>271</td>\n",
       "      <td>33.666667</td>\n",
       "      <td>0.098765</td>\n",
       "      <td>0.049383</td>\n",
       "      <td>0.041152</td>\n",
       "      <td>0.139918</td>\n",
       "      <td>0.050193</td>\n",
       "      <td>0.589958</td>\n",
       "      <td>0.826331</td>\n",
       "      <td>0.878049</td>\n",
       "      <td>1.353</td>\n",
       "      <td>11.500</td>\n",
       "      <td>243</td>\n",
       "      <td>12.150</td>\n",
       "      <td>True</td>\n",
       "    </tr>\n",
       "    <tr>\n",
       "      <th>4</th>\n",
       "      <td>tr</td>\n",
       "      <td>j cole</td>\n",
       "      <td>unk152</td>\n",
       "      <td>Rap</td>\n",
       "      <td>This next three bars is dedicated to the retar...</td>\n",
       "      <td>This next three bars is dedicated to the retar...</td>\n",
       "      <td>121</td>\n",
       "      <td>48.000000</td>\n",
       "      <td>0.042373</td>\n",
       "      <td>0.033898</td>\n",
       "      <td>0.076271</td>\n",
       "      <td>0.135593</td>\n",
       "      <td>0.053030</td>\n",
       "      <td>0.737288</td>\n",
       "      <td>0.903134</td>\n",
       "      <td>0.941176</td>\n",
       "      <td>2.200</td>\n",
       "      <td>11.000</td>\n",
       "      <td>118</td>\n",
       "      <td>7.867</td>\n",
       "      <td>True</td>\n",
       "    </tr>\n",
       "  </tbody>\n",
       "</table>\n",
       "</div>"
      ],
      "text/plain": [
       "  subset            author  ... string_mean_length swear_words\n",
       "0     tr  chance the rappe  ...              7.737        True\n",
       "1     tr       megan & liz  ...              5.250        True\n",
       "2     tr        jamiroquai  ...              8.353       False\n",
       "3     tr             drake  ...             12.150        True\n",
       "4     tr            j cole  ...              7.867        True\n",
       "\n",
       "[5 rows x 21 columns]"
      ]
     },
     "execution_count": 19,
     "metadata": {
      "tags": []
     },
     "output_type": "execute_result"
    }
   ],
   "source": [
    "data.head()"
   ]
  }
 ],
 "metadata": {
  "colab": {
   "name": "2_features.ipynb",
   "provenance": []
  },
  "kernelspec": {
   "display_name": "Python 3",
   "language": "python",
   "name": "python3"
  },
  "language_info": {
   "codemirror_mode": {
    "name": "ipython",
    "version": 3
   },
   "file_extension": ".py",
   "mimetype": "text/x-python",
   "name": "python",
   "nbconvert_exporter": "python",
   "pygments_lexer": "ipython3",
   "version": "3.7.6"
  },
  "widgets": {
   "application/vnd.jupyter.widget-state+json": {
    "151a17cb81da4cbba6b19c11ee9940c5": {
     "model_module": "@jupyter-widgets/controls",
     "model_name": "DescriptionStyleModel",
     "state": {
      "_model_module": "@jupyter-widgets/controls",
      "_model_module_version": "1.5.0",
      "_model_name": "DescriptionStyleModel",
      "_view_count": null,
      "_view_module": "@jupyter-widgets/base",
      "_view_module_version": "1.2.0",
      "_view_name": "StyleView",
      "description_width": ""
     }
    },
    "15a5b0b7ae3a4aeea5833046b4fa62b5": {
     "model_module": "@jupyter-widgets/base",
     "model_name": "LayoutModel",
     "state": {
      "_model_module": "@jupyter-widgets/base",
      "_model_module_version": "1.2.0",
      "_model_name": "LayoutModel",
      "_view_count": null,
      "_view_module": "@jupyter-widgets/base",
      "_view_module_version": "1.2.0",
      "_view_name": "LayoutView",
      "align_content": null,
      "align_items": null,
      "align_self": null,
      "border": null,
      "bottom": null,
      "display": null,
      "flex": null,
      "flex_flow": null,
      "grid_area": null,
      "grid_auto_columns": null,
      "grid_auto_flow": null,
      "grid_auto_rows": null,
      "grid_column": null,
      "grid_gap": null,
      "grid_row": null,
      "grid_template_areas": null,
      "grid_template_columns": null,
      "grid_template_rows": null,
      "height": null,
      "justify_content": null,
      "justify_items": null,
      "left": null,
      "margin": null,
      "max_height": null,
      "max_width": null,
      "min_height": null,
      "min_width": null,
      "object_fit": null,
      "object_position": null,
      "order": null,
      "overflow": null,
      "overflow_x": null,
      "overflow_y": null,
      "padding": null,
      "right": null,
      "top": null,
      "visibility": null,
      "width": null
     }
    },
    "241af75de75e4e69a1a9f5fd28fd7be6": {
     "model_module": "@jupyter-widgets/base",
     "model_name": "LayoutModel",
     "state": {
      "_model_module": "@jupyter-widgets/base",
      "_model_module_version": "1.2.0",
      "_model_name": "LayoutModel",
      "_view_count": null,
      "_view_module": "@jupyter-widgets/base",
      "_view_module_version": "1.2.0",
      "_view_name": "LayoutView",
      "align_content": null,
      "align_items": null,
      "align_self": null,
      "border": null,
      "bottom": null,
      "display": null,
      "flex": null,
      "flex_flow": null,
      "grid_area": null,
      "grid_auto_columns": null,
      "grid_auto_flow": null,
      "grid_auto_rows": null,
      "grid_column": null,
      "grid_gap": null,
      "grid_row": null,
      "grid_template_areas": null,
      "grid_template_columns": null,
      "grid_template_rows": null,
      "height": null,
      "justify_content": null,
      "justify_items": null,
      "left": null,
      "margin": null,
      "max_height": null,
      "max_width": null,
      "min_height": null,
      "min_width": null,
      "object_fit": null,
      "object_position": null,
      "order": null,
      "overflow": null,
      "overflow_x": null,
      "overflow_y": null,
      "padding": null,
      "right": null,
      "top": null,
      "visibility": null,
      "width": null
     }
    },
    "2b0e03fac1184b9c9ca372996633e256": {
     "model_module": "@jupyter-widgets/controls",
     "model_name": "FloatProgressModel",
     "state": {
      "_dom_classes": [],
      "_model_module": "@jupyter-widgets/controls",
      "_model_module_version": "1.5.0",
      "_model_name": "FloatProgressModel",
      "_view_count": null,
      "_view_module": "@jupyter-widgets/controls",
      "_view_module_version": "1.5.0",
      "_view_name": "ProgressView",
      "bar_style": "success",
      "description": "100%",
      "description_tooltip": null,
      "layout": "IPY_MODEL_15a5b0b7ae3a4aeea5833046b4fa62b5",
      "max": 20582,
      "min": 0,
      "orientation": "horizontal",
      "style": "IPY_MODEL_cb07b620c7bf42f9b2e24ae94730de62",
      "value": 20582
     }
    },
    "5207ba0178714fd9ae548de5fcba0866": {
     "model_module": "@jupyter-widgets/controls",
     "model_name": "HBoxModel",
     "state": {
      "_dom_classes": [],
      "_model_module": "@jupyter-widgets/controls",
      "_model_module_version": "1.5.0",
      "_model_name": "HBoxModel",
      "_view_count": null,
      "_view_module": "@jupyter-widgets/controls",
      "_view_module_version": "1.5.0",
      "_view_name": "HBoxView",
      "box_style": "",
      "children": [
       "IPY_MODEL_2b0e03fac1184b9c9ca372996633e256",
       "IPY_MODEL_7cb9eeee737e46789ab8bbbc0904634b"
      ],
      "layout": "IPY_MODEL_aeb1dc99b77049488fc4df45d217bcf6"
     }
    },
    "7cb9eeee737e46789ab8bbbc0904634b": {
     "model_module": "@jupyter-widgets/controls",
     "model_name": "HTMLModel",
     "state": {
      "_dom_classes": [],
      "_model_module": "@jupyter-widgets/controls",
      "_model_module_version": "1.5.0",
      "_model_name": "HTMLModel",
      "_view_count": null,
      "_view_module": "@jupyter-widgets/controls",
      "_view_module_version": "1.5.0",
      "_view_name": "HTMLView",
      "description": "",
      "description_tooltip": null,
      "layout": "IPY_MODEL_241af75de75e4e69a1a9f5fd28fd7be6",
      "placeholder": "​",
      "style": "IPY_MODEL_151a17cb81da4cbba6b19c11ee9940c5",
      "value": " 20582/20582 [6:43:23&lt;00:00,  1.18s/it]"
     }
    },
    "aeb1dc99b77049488fc4df45d217bcf6": {
     "model_module": "@jupyter-widgets/base",
     "model_name": "LayoutModel",
     "state": {
      "_model_module": "@jupyter-widgets/base",
      "_model_module_version": "1.2.0",
      "_model_name": "LayoutModel",
      "_view_count": null,
      "_view_module": "@jupyter-widgets/base",
      "_view_module_version": "1.2.0",
      "_view_name": "LayoutView",
      "align_content": null,
      "align_items": null,
      "align_self": null,
      "border": null,
      "bottom": null,
      "display": null,
      "flex": null,
      "flex_flow": null,
      "grid_area": null,
      "grid_auto_columns": null,
      "grid_auto_flow": null,
      "grid_auto_rows": null,
      "grid_column": null,
      "grid_gap": null,
      "grid_row": null,
      "grid_template_areas": null,
      "grid_template_columns": null,
      "grid_template_rows": null,
      "height": null,
      "justify_content": null,
      "justify_items": null,
      "left": null,
      "margin": null,
      "max_height": null,
      "max_width": null,
      "min_height": null,
      "min_width": null,
      "object_fit": null,
      "object_position": null,
      "order": null,
      "overflow": null,
      "overflow_x": null,
      "overflow_y": null,
      "padding": null,
      "right": null,
      "top": null,
      "visibility": null,
      "width": null
     }
    },
    "cb07b620c7bf42f9b2e24ae94730de62": {
     "model_module": "@jupyter-widgets/controls",
     "model_name": "ProgressStyleModel",
     "state": {
      "_model_module": "@jupyter-widgets/controls",
      "_model_module_version": "1.5.0",
      "_model_name": "ProgressStyleModel",
      "_view_count": null,
      "_view_module": "@jupyter-widgets/base",
      "_view_module_version": "1.2.0",
      "_view_name": "StyleView",
      "bar_color": null,
      "description_width": "initial"
     }
    }
   }
  }
 },
 "nbformat": 4,
 "nbformat_minor": 1
}
